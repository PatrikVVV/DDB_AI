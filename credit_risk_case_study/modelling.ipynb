{
 "cells": [
  {
   "cell_type": "markdown",
   "metadata": {},
   "source": [
    "# Predicting credit default\n",
    "\n",
    "In this notebook we show how one can predict whether a customer will default on the repayment of their credit card loans using a variety of models. We will use the prepared dataset from the EDA notebook for this."
   ]
  },
  {
   "cell_type": "markdown",
   "metadata": {},
   "source": [
    "## Dataset preparation"
   ]
  },
  {
   "cell_type": "code",
   "execution_count": 1,
   "metadata": {},
   "outputs": [],
   "source": [
    "import pandas as pd\n",
    "import numpy as np\n",
    "from sklearn.preprocessing import OneHotEncoder, StandardScaler\n",
    "from sklearn.model_selection import PredefinedSplit, GridSearchCV\n",
    "from sklearn.svm import SVC\n",
    "from sklearn.neighbors import KNeighborsClassifier\n",
    "from sklearn.ensemble import RandomForestClassifier\n",
    "from sklearn.metrics import f1_score, recall_score, precision_score, precision_recall_curve\n",
    "import matplotlib.pyplot as plt\n",
    "from plotnine import *\n",
    "import os\n",
    "import datetime\n",
    "import pickle\n",
    "import json"
   ]
  },
  {
   "cell_type": "code",
   "execution_count": 2,
   "metadata": {},
   "outputs": [],
   "source": [
    "from IPython.core.interactiveshell import InteractiveShell\n",
    "InteractiveShell.ast_node_interactivity = \"all\" # to make jupyter print all outputs, not just the last one\n",
    "from IPython.core.display import HTML # to pretty print pandas df and be able to copy them over (e.g. to ppt slides)\n",
    "pd.options.display.float_format = '{:.4f}'.format"
   ]
  },
  {
   "cell_type": "code",
   "execution_count": 3,
   "metadata": {},
   "outputs": [],
   "source": [
    "# constants\n",
    "USE_STORED_SVC_HYPERTUNED_MODELS = True\n",
    "USE_STORED_SVC_SKLEARNED_HYPERTUNED_MODELS = True\n",
    "USE_STORED_NN_HYPERTUNED_MODELS = True"
   ]
  },
  {
   "cell_type": "code",
   "execution_count": 4,
   "metadata": {},
   "outputs": [],
   "source": [
    "# first we read in the feather file with the input features\n",
    "credit_card_df = pd.read_feather(os.path.join('..', 'dataset', 'modelling_dataset.feather'))"
   ]
  },
  {
   "cell_type": "code",
   "execution_count": 5,
   "metadata": {},
   "outputs": [
    {
     "data": {
      "text/html": [
       "<div>\n",
       "<style scoped>\n",
       "    .dataframe tbody tr th:only-of-type {\n",
       "        vertical-align: middle;\n",
       "    }\n",
       "\n",
       "    .dataframe tbody tr th {\n",
       "        vertical-align: top;\n",
       "    }\n",
       "\n",
       "    .dataframe thead th {\n",
       "        text-align: right;\n",
       "    }\n",
       "</style>\n",
       "<table border=\"1\" class=\"dataframe\">\n",
       "  <thead>\n",
       "    <tr style=\"text-align: right;\">\n",
       "      <th></th>\n",
       "      <th>id</th>\n",
       "      <th>limit_bal</th>\n",
       "      <th>sex</th>\n",
       "      <th>education</th>\n",
       "      <th>marriage</th>\n",
       "      <th>age</th>\n",
       "      <th>pay_1</th>\n",
       "      <th>pay_2</th>\n",
       "      <th>pay_3</th>\n",
       "      <th>pay_4</th>\n",
       "      <th>...</th>\n",
       "      <th>bill_amt6</th>\n",
       "      <th>pay_amt1</th>\n",
       "      <th>pay_amt2</th>\n",
       "      <th>pay_amt3</th>\n",
       "      <th>pay_amt4</th>\n",
       "      <th>pay_amt5</th>\n",
       "      <th>pay_amt6</th>\n",
       "      <th>default</th>\n",
       "      <th>max_delay</th>\n",
       "      <th>freq_delay</th>\n",
       "    </tr>\n",
       "  </thead>\n",
       "  <tbody>\n",
       "    <tr>\n",
       "      <th>0</th>\n",
       "      <td>1</td>\n",
       "      <td>20000</td>\n",
       "      <td>2</td>\n",
       "      <td>2</td>\n",
       "      <td>1</td>\n",
       "      <td>24</td>\n",
       "      <td>2</td>\n",
       "      <td>2</td>\n",
       "      <td>-1</td>\n",
       "      <td>-1</td>\n",
       "      <td>...</td>\n",
       "      <td>0</td>\n",
       "      <td>0</td>\n",
       "      <td>689</td>\n",
       "      <td>0</td>\n",
       "      <td>0</td>\n",
       "      <td>0</td>\n",
       "      <td>0</td>\n",
       "      <td>1</td>\n",
       "      <td>2</td>\n",
       "      <td>2</td>\n",
       "    </tr>\n",
       "    <tr>\n",
       "      <th>1</th>\n",
       "      <td>2</td>\n",
       "      <td>120000</td>\n",
       "      <td>2</td>\n",
       "      <td>2</td>\n",
       "      <td>2</td>\n",
       "      <td>26</td>\n",
       "      <td>-1</td>\n",
       "      <td>2</td>\n",
       "      <td>0</td>\n",
       "      <td>0</td>\n",
       "      <td>...</td>\n",
       "      <td>3261</td>\n",
       "      <td>0</td>\n",
       "      <td>1000</td>\n",
       "      <td>1000</td>\n",
       "      <td>1000</td>\n",
       "      <td>0</td>\n",
       "      <td>2000</td>\n",
       "      <td>1</td>\n",
       "      <td>2</td>\n",
       "      <td>5</td>\n",
       "    </tr>\n",
       "    <tr>\n",
       "      <th>2</th>\n",
       "      <td>3</td>\n",
       "      <td>90000</td>\n",
       "      <td>2</td>\n",
       "      <td>2</td>\n",
       "      <td>2</td>\n",
       "      <td>34</td>\n",
       "      <td>0</td>\n",
       "      <td>0</td>\n",
       "      <td>0</td>\n",
       "      <td>0</td>\n",
       "      <td>...</td>\n",
       "      <td>15549</td>\n",
       "      <td>1518</td>\n",
       "      <td>1500</td>\n",
       "      <td>1000</td>\n",
       "      <td>1000</td>\n",
       "      <td>1000</td>\n",
       "      <td>5000</td>\n",
       "      <td>0</td>\n",
       "      <td>0</td>\n",
       "      <td>6</td>\n",
       "    </tr>\n",
       "    <tr>\n",
       "      <th>3</th>\n",
       "      <td>4</td>\n",
       "      <td>50000</td>\n",
       "      <td>2</td>\n",
       "      <td>2</td>\n",
       "      <td>1</td>\n",
       "      <td>37</td>\n",
       "      <td>0</td>\n",
       "      <td>0</td>\n",
       "      <td>0</td>\n",
       "      <td>0</td>\n",
       "      <td>...</td>\n",
       "      <td>29547</td>\n",
       "      <td>2000</td>\n",
       "      <td>2019</td>\n",
       "      <td>1200</td>\n",
       "      <td>1100</td>\n",
       "      <td>1069</td>\n",
       "      <td>1000</td>\n",
       "      <td>0</td>\n",
       "      <td>0</td>\n",
       "      <td>6</td>\n",
       "    </tr>\n",
       "    <tr>\n",
       "      <th>4</th>\n",
       "      <td>5</td>\n",
       "      <td>50000</td>\n",
       "      <td>1</td>\n",
       "      <td>2</td>\n",
       "      <td>1</td>\n",
       "      <td>57</td>\n",
       "      <td>-1</td>\n",
       "      <td>0</td>\n",
       "      <td>-1</td>\n",
       "      <td>0</td>\n",
       "      <td>...</td>\n",
       "      <td>19131</td>\n",
       "      <td>2000</td>\n",
       "      <td>36681</td>\n",
       "      <td>10000</td>\n",
       "      <td>9000</td>\n",
       "      <td>689</td>\n",
       "      <td>679</td>\n",
       "      <td>0</td>\n",
       "      <td>0</td>\n",
       "      <td>4</td>\n",
       "    </tr>\n",
       "  </tbody>\n",
       "</table>\n",
       "<p>5 rows × 27 columns</p>\n",
       "</div>"
      ],
      "text/plain": [
       "  id  limit_bal sex education marriage  age  pay_1  pay_2  pay_3  pay_4  ...  \\\n",
       "0  1      20000   2         2        1   24      2      2     -1     -1  ...   \n",
       "1  2     120000   2         2        2   26     -1      2      0      0  ...   \n",
       "2  3      90000   2         2        2   34      0      0      0      0  ...   \n",
       "3  4      50000   2         2        1   37      0      0      0      0  ...   \n",
       "4  5      50000   1         2        1   57     -1      0     -1      0  ...   \n",
       "\n",
       "   bill_amt6  pay_amt1  pay_amt2  pay_amt3  pay_amt4  pay_amt5  pay_amt6  \\\n",
       "0          0         0       689         0         0         0         0   \n",
       "1       3261         0      1000      1000      1000         0      2000   \n",
       "2      15549      1518      1500      1000      1000      1000      5000   \n",
       "3      29547      2000      2019      1200      1100      1069      1000   \n",
       "4      19131      2000     36681     10000      9000       689       679   \n",
       "\n",
       "   default  max_delay  freq_delay  \n",
       "0        1          2           2  \n",
       "1        1          2           5  \n",
       "2        0          0           6  \n",
       "3        0          0           6  \n",
       "4        0          0           4  \n",
       "\n",
       "[5 rows x 27 columns]"
      ]
     },
     "execution_count": 5,
     "metadata": {},
     "output_type": "execute_result"
    }
   ],
   "source": [
    "credit_card_df.head()"
   ]
  },
  {
   "cell_type": "markdown",
   "metadata": {},
   "source": [
    "# Creating the train, test, and validation splits\n",
    "\n",
    "- **We split the dataset into train, validation, and test**\n",
    "\n",
    "- We will set test aside, which will be used to evaluate the final performance of the model. Then we will use train and validation to fit the actual model.\n",
    "\n",
    "- Note that since our dataset is imbalanced, we must make sure that the distribution of the target across train, validation, and test is balanced, otherwise we run the risk of e.g. not have sufficient default cases in the test set, for instance.\n",
    "\n",
    "- The reason why we split the data into train, validation, and test is that we want to train the model and then evaluate the model accuracy on data **that the model has never seen**. This is the only way to accurately evaluate the predictive performance of a model.\n",
    "\n",
    "- There are no hard-and-fast rules on how you have to split the data into train, validation, and test, only rules of thumb. The general idea is that you should have enough training examples to minimize the variance (uncertainty) on the model parameters, and enough test examples to minimize the variance (uncertainty) on the model performance metrics\n",
    "\n",
    "- If there is enough data, the following algorithm to split into train/validation/test is the standard one:\n",
    "    - split the dataset into fitting data (80%) and test set (20%)\n",
    "    - split the fitting data further into train set (80% of the fitting data) and validation set (20% of the fitting data)\n",
    "- If there is not enough data, then crossvalidation is the only option in order to find the best model parameters"
   ]
  },
  {
   "cell_type": "markdown",
   "metadata": {},
   "source": [
    "**Software engineering intermezzo**\n",
    "\n",
    "In this course, we focus on model building rather than programming patterns, but in a **real** machine learning project the software engineering/IT part of the project is typically as important as the modelling part (and sometimes more...). One important programming pattern that every data scientist should know is *object oriented programming*. In the code we have seen until now, we mostly worked with python functions. However, sometimes one would like to have a way to combine multiple functions and some data into a single unit of behaviour.\n",
    "\n",
    "For instance, consider the task of modelling a bank customer. This *entity* could be modelled as a dictionary where we store, e.g., the customer name, his date of birth, and the balance of his bank account."
   ]
  },
  {
   "cell_type": "code",
   "execution_count": 6,
   "metadata": {},
   "outputs": [],
   "source": [
    "customer = {\n",
    "    \"balance\": 1000,\n",
    "    \"name\": \"John\",\n",
    "    \"birthdate\": \"1980-01-01\"\n",
    "}"
   ]
  },
  {
   "cell_type": "markdown",
   "metadata": {},
   "source": [
    "Now, there are many things we might want to do with customers. For instance, we might want to change their balance when they make a transaction. We could do that with a function set_balance, for instance."
   ]
  },
  {
   "cell_type": "code",
   "execution_count": 7,
   "metadata": {},
   "outputs": [
    {
     "data": {
      "text/plain": [
       "{'balance': 500, 'name': 'John', 'birthdate': '1980-01-01'}"
      ]
     },
     "execution_count": 7,
     "metadata": {},
     "output_type": "execute_result"
    }
   ],
   "source": [
    "def set_balance(customer, new_balance):\n",
    "    customer[\"balance\"] = new_balance\n",
    "\n",
    "set_balance(customer, 500)\n",
    "customer"
   ]
  },
  {
   "cell_type": "markdown",
   "metadata": {},
   "source": [
    "That's great. However, there are many other operations we might want to do on a customer. For instance, we might want to:\n",
    "\n",
    "1. Calculate the current age of the customer\n",
    "2. Change the customer name\n",
    "\n",
    "And many others. If we had a function for each operation we want to do on the customer, this might start being rather messy, in particular if the functions change the **state** of the customer object, e.g., by resetting the balance of the customer. Consider that in a realistic scenario we might have millions of customers and you can see the problem.\n",
    "\n",
    "In **object oriented programming**, we deal with this problem by defining a customer **class** which we can use to create individual customers.\n",
    "\n",
    "This class is essentially a template/blueprint to create customer objects. It specifies which data attributes the customer objects have (like birthdate, name, etc.). It also specifies which **methods** the customer objects have. Methods are like functions, but they are bound to a specific class object and they act/modify that object. When we have a class, we can create objects from it simply by calling it, and passing to it the values of the attributes (e.g. balance) that we want the new object to have. These values are passed to a special __init__ method, which then sets the passed arguments on the object.\n",
    "\n",
    "The following is an example of a customer class with an init method and a couple of the methods discussed above:"
   ]
  },
  {
   "cell_type": "code",
   "execution_count": 8,
   "metadata": {},
   "outputs": [
    {
     "name": "stdout",
     "output_type": "stream",
     "text": [
      "Customer 1 initial balance: 1000\n",
      "Customer 1 new balance: 1500\n"
     ]
    }
   ],
   "source": [
    "class Customer():\n",
    "    def __init__(self, balance, name, birthdate) -> None:\n",
    "        self.name = name\n",
    "        self.balance = balance\n",
    "        self.birthdate = birthdate\n",
    "        \n",
    "    def set_balance(self, new_balance):\n",
    "        self.balance = new_balance\n",
    "        \n",
    "    def change_name(self, new_name):\n",
    "        self.name = new_name\n",
    "        \n",
    "# with this class, we can now create a customer object\n",
    "customer1 = Customer(balance=1000, name=\"John\", birthdate=\"1980-01-01\")\n",
    "# but we can use the class to create multiple customers, with different attribute values\n",
    "customer2 = Customer(balance=400, name=\"Andy\", birthdate=\"1991-05-16\")\n",
    "customer3 = Customer(balance=100, name=\"Pamela\", birthdate=\"1960-03-20\")\n",
    "\n",
    "# we can then call the methods on the specific customers to change/get values for that customer\n",
    "print(\"Customer 1 initial balance: {}\".format(customer1.balance))\n",
    "customer1.set_balance(1500)\n",
    "print(\"Customer 1 new balance: {}\".format(customer1.balance))"
   ]
  },
  {
   "cell_type": "markdown",
   "metadata": {},
   "source": [
    "Note how the class is called with the values of the attributes that you want to use when you create the customer object. These are passed to the __init__ method, which then creates the customer object. Note moreover how every method in the class has a `self` argument. This argument refers to the specific customer object instance that we have when we call the method on a customer instance, and can be used to e.g. change the attribute values of that customer instance."
   ]
  },
  {
   "cell_type": "markdown",
   "metadata": {},
   "source": [
    "The entire sklearn library that we use for machine learning in this course is build on object oriented programming, so it's important to have at least an idea of what that is. Now that we have seen an abstract example, we can see a more concrete example by using object oriented programming to split our data into training, validation, and test set."
   ]
  },
  {
   "cell_type": "code",
   "execution_count": 6,
   "metadata": {},
   "outputs": [],
   "source": [
    "class TrainTestSplitter(object):\n",
    "    '''Class to perform the split of the data into train, test, and validation.\n",
    "    '''\n",
    "    def __init__(self, train_frac=0.8, validation_frac=0.2, seed=1234):\n",
    "        self.train_frac = train_frac\n",
    "        self.validation_frac = validation_frac\n",
    "        self.seed = seed\n",
    "    \n",
    "    def calculate_statistics(self):\n",
    "        statistics = {}\n",
    "        for i in ['train_set', 'test_set', 'validation_set']:\n",
    "            split_stats = {}\n",
    "            default_count = (getattr(self, i).groupby('default').size().reset_index())\n",
    "            split_stats['N_defaults'] = (default_count.loc[lambda x: x.default ==1, 0].iloc[0])\n",
    "            split_stats['percentage_total_defaults'] = split_stats['N_defaults']/self.total_n_defaults * 100\n",
    "            split_stats['N_not_defaults'] = default_count.loc[lambda x: x.default == 0, 0].iloc[0]\n",
    "            split_stats['percentage_total_not_defaults'] = split_stats['N_not_defaults']/self.total_n_not_defaults * 100\n",
    "            statistics[i] = split_stats\n",
    "        self.split_statistics = statistics\n",
    "\n",
    "    def split_train_test(self, df):\n",
    "        print(\"Generating the train/validation/test splits...\")\n",
    "        self.total_n_defaults = df.loc[lambda x: x.default == 1].shape[0]\n",
    "        self.total_n_not_defaults = df.loc[lambda x: x.default == 0].shape[0]\n",
    "        self.train_set = df.sample(frac=self.train_frac, random_state=self.seed)\n",
    "        self.test_set = df.loc[lambda x: ~x.id.isin(self.train_set.id)].reset_index(drop=True)\n",
    "        self.validation_set = self.train_set.sample(frac=self.validation_frac).reset_index(drop=True)\n",
    "        self.train_set = self.train_set.loc[lambda x: ~x.id.isin(self.validation_set.id)].reset_index(drop=True)\n",
    "        print(\"calculating the statistics...\")\n",
    "        self.calculate_statistics()\n",
    "        print(\"split completed\")"
   ]
  },
  {
   "cell_type": "code",
   "execution_count": 7,
   "metadata": {},
   "outputs": [],
   "source": [
    "# create a fitting_splits object that will hold the train, validation, and test data\n",
    "fitting_splits = TrainTestSplitter()"
   ]
  },
  {
   "cell_type": "code",
   "execution_count": 8,
   "metadata": {},
   "outputs": [
    {
     "name": "stdout",
     "output_type": "stream",
     "text": [
      "Generating the train/validation/test splits...\n",
      "calculating the statistics...\n",
      "split completed\n"
     ]
    }
   ],
   "source": [
    "fitting_splits.split_train_test(credit_card_df)"
   ]
  },
  {
   "cell_type": "code",
   "execution_count": 9,
   "metadata": {},
   "outputs": [
    {
     "data": {
      "text/plain": [
       "(6000, 27)"
      ]
     },
     "execution_count": 9,
     "metadata": {},
     "output_type": "execute_result"
    }
   ],
   "source": [
    "fitting_splits.test_set.shape"
   ]
  },
  {
   "cell_type": "code",
   "execution_count": 10,
   "metadata": {},
   "outputs": [
    {
     "data": {
      "text/plain": [
       "{'train_set': {'N_defaults': 4232,\n",
       "  'percentage_total_defaults': 63.773357444243516,\n",
       "  'N_not_defaults': 14968,\n",
       "  'percentage_total_not_defaults': 64.06437253894882},\n",
       " 'test_set': {'N_defaults': 1307,\n",
       "  'percentage_total_defaults': 19.695599758890896,\n",
       "  'N_not_defaults': 4693,\n",
       "  'percentage_total_not_defaults': 20.086457798322204},\n",
       " 'validation_set': {'N_defaults': 1097,\n",
       "  'percentage_total_defaults': 16.53104279686558,\n",
       "  'N_not_defaults': 3703,\n",
       "  'percentage_total_not_defaults': 15.849169662728984}}"
      ]
     },
     "execution_count": 10,
     "metadata": {},
     "output_type": "execute_result"
    }
   ],
   "source": [
    "fitting_splits.split_statistics"
   ]
  },
  {
   "cell_type": "markdown",
   "metadata": {},
   "source": [
    "Consider the split statistics above, and note how we have ~64% of the default cases in the training set, ~20% of the default cases in the test set, and ~16% of the default cases in the validation set. We conclude that the split is representative of the class balances, and we can proceed with modelling."
   ]
  },
  {
   "cell_type": "markdown",
   "metadata": {},
   "source": [
    "# Dummification and scaling"
   ]
  },
  {
   "cell_type": "markdown",
   "metadata": {},
   "source": [
    "Before fitting a model to our data, we need to deal with two data transformations that are **essential** to be able to obtain a performant model. These are **dummification** or **one-hot-encoding** and **scaling**."
   ]
  },
  {
   "cell_type": "markdown",
   "metadata": {},
   "source": [
    "### Dummification\n",
    "- **Dummification** is used to transform categorical variables into numerical variables, since most machine learning models can only deal with numerical variables. You probably already encountered this in your statistics course since linear regression requires dummification.\n",
    "- In dummification, we transform a categorical variable with N values into C_0, ..., C_N columns that take only 0 or 1 values. A row then has exactly one of these columns with 1, and the others with 0, namely, the column corresponding to the original value of the categorical variable for that row.\n",
    "- Note that there are alternative ways to deal with categorical variables. One is to use ordinal encoding, which simply encodes the categorical variable as integers. In the above dataset, the categorical variables of education, gender, marriage, etc. are ordinally encoded\n",
    "- Ordinal encoding, however, introduces an order between the categories which doesn't necessarily make sense and can cause problems for ML algorithms. For instance, if we have two categories \"male\" and \"female\", and we encode them as 0 and 1, then we are also encoding that \"male\" < \"female\" since 0 < 1. Which does not make sense and can lead to issues with the models, for instance predictions in-between classes\n",
    "- In our dataset, one might argue that while there is a natural order for education, no such order exists for sex and marriage. Therefore, we are going to one-hot encode the sex and marriage variables\n",
    "\n",
    "We will use the sklearn one hot encoder to encode the sex and marriage variables. The education variable we will leave as an ordinal (integer) variable. See\n",
    "https://scikit-learn.org/stable/modules/generated/sklearn.preprocessing.OneHotEncoder.html for documentation."
   ]
  },
  {
   "cell_type": "markdown",
   "metadata": {},
   "source": [
    "### Scaling\n",
    "- **feature scaling** refers to the application of a transformation to the numerical variables in the dataset which normalizes the range of the numerical variables, ensuring that these ranges are the same\n",
    "- this is performed because often numerical variables can have wildly different ranges; for instance, the \"age\" variable in the above dataset has a very different range from the \"limit_bal\" variable.\n",
    "- this can cause problems to machine learning models, in particular those, like SVM, that rely on measuring distances in e.g. Euclidean spaces. Without scaling, features whose range is in the high numers (e.g. limit_bal) will come to dominate the distance measures used in the algorithms, and features with ranges in the low numbers (e.g. age) will have little to no impact on the model\n",
    "- there are many ways to standardize variables (https://en.wikipedia.org/wiki/Feature_scaling). The most common are:\n",
    "    - min/max scaling\n",
    "    - mean normalization\n",
    "    - standardization (z-score calculation)\n",
    "\n",
    "sklearn provides various classes to perform feature scaling. We are going to use the StandardScaler, which performs z-score standardization. See https://scikit-learn.org/stable/modules/generated/sklearn.preprocessing.StandardScaler.html for documentation."
   ]
  },
  {
   "cell_type": "code",
   "execution_count": 11,
   "metadata": {},
   "outputs": [],
   "source": [
    "# 1. fit a one hot encoder transformer to the TRAIN SET. The object we obtain will be reused later, to transform our data\n",
    "# note: it is important that these transformers are fitted only on the train data.\n",
    "one_hot_encoder = OneHotEncoder() # one hot encoder is a class instance\n",
    "_ = one_hot_encoder.fit(fitting_splits.train_set[['sex', 'marriage']]) # we can fit the encoder instance on the columns that need to be transformed."
   ]
  },
  {
   "cell_type": "code",
   "execution_count": 12,
   "metadata": {},
   "outputs": [
    {
     "data": {
      "text/plain": [
       "[array(['1', '2'], dtype=object), array(['0', '1', '2', '3'], dtype=object)]"
      ]
     },
     "execution_count": 12,
     "metadata": {},
     "output_type": "execute_result"
    },
    {
     "data": {
      "text/plain": [
       "array(['sex_1', 'sex_2', 'marriage_0', 'marriage_1', 'marriage_2',\n",
       "       'marriage_3'], dtype=object)"
      ]
     },
     "execution_count": 12,
     "metadata": {},
     "output_type": "execute_result"
    },
    {
     "data": {
      "text/html": [
       "<div>\n",
       "<style scoped>\n",
       "    .dataframe tbody tr th:only-of-type {\n",
       "        vertical-align: middle;\n",
       "    }\n",
       "\n",
       "    .dataframe tbody tr th {\n",
       "        vertical-align: top;\n",
       "    }\n",
       "\n",
       "    .dataframe thead th {\n",
       "        text-align: right;\n",
       "    }\n",
       "</style>\n",
       "<table border=\"1\" class=\"dataframe\">\n",
       "  <thead>\n",
       "    <tr style=\"text-align: right;\">\n",
       "      <th></th>\n",
       "      <th>sex_1</th>\n",
       "      <th>sex_2</th>\n",
       "      <th>marriage_0</th>\n",
       "      <th>marriage_1</th>\n",
       "      <th>marriage_2</th>\n",
       "      <th>marriage_3</th>\n",
       "    </tr>\n",
       "  </thead>\n",
       "  <tbody>\n",
       "    <tr>\n",
       "      <th>0</th>\n",
       "      <td>1.0000</td>\n",
       "      <td>0.0000</td>\n",
       "      <td>0.0000</td>\n",
       "      <td>1.0000</td>\n",
       "      <td>0.0000</td>\n",
       "      <td>0.0000</td>\n",
       "    </tr>\n",
       "    <tr>\n",
       "      <th>1</th>\n",
       "      <td>1.0000</td>\n",
       "      <td>0.0000</td>\n",
       "      <td>0.0000</td>\n",
       "      <td>0.0000</td>\n",
       "      <td>1.0000</td>\n",
       "      <td>0.0000</td>\n",
       "    </tr>\n",
       "    <tr>\n",
       "      <th>2</th>\n",
       "      <td>0.0000</td>\n",
       "      <td>1.0000</td>\n",
       "      <td>0.0000</td>\n",
       "      <td>1.0000</td>\n",
       "      <td>0.0000</td>\n",
       "      <td>0.0000</td>\n",
       "    </tr>\n",
       "    <tr>\n",
       "      <th>3</th>\n",
       "      <td>0.0000</td>\n",
       "      <td>1.0000</td>\n",
       "      <td>0.0000</td>\n",
       "      <td>1.0000</td>\n",
       "      <td>0.0000</td>\n",
       "      <td>0.0000</td>\n",
       "    </tr>\n",
       "    <tr>\n",
       "      <th>4</th>\n",
       "      <td>1.0000</td>\n",
       "      <td>0.0000</td>\n",
       "      <td>0.0000</td>\n",
       "      <td>0.0000</td>\n",
       "      <td>1.0000</td>\n",
       "      <td>0.0000</td>\n",
       "    </tr>\n",
       "    <tr>\n",
       "      <th>...</th>\n",
       "      <td>...</td>\n",
       "      <td>...</td>\n",
       "      <td>...</td>\n",
       "      <td>...</td>\n",
       "      <td>...</td>\n",
       "      <td>...</td>\n",
       "    </tr>\n",
       "    <tr>\n",
       "      <th>19195</th>\n",
       "      <td>0.0000</td>\n",
       "      <td>1.0000</td>\n",
       "      <td>0.0000</td>\n",
       "      <td>1.0000</td>\n",
       "      <td>0.0000</td>\n",
       "      <td>0.0000</td>\n",
       "    </tr>\n",
       "    <tr>\n",
       "      <th>19196</th>\n",
       "      <td>0.0000</td>\n",
       "      <td>1.0000</td>\n",
       "      <td>0.0000</td>\n",
       "      <td>0.0000</td>\n",
       "      <td>1.0000</td>\n",
       "      <td>0.0000</td>\n",
       "    </tr>\n",
       "    <tr>\n",
       "      <th>19197</th>\n",
       "      <td>1.0000</td>\n",
       "      <td>0.0000</td>\n",
       "      <td>0.0000</td>\n",
       "      <td>0.0000</td>\n",
       "      <td>1.0000</td>\n",
       "      <td>0.0000</td>\n",
       "    </tr>\n",
       "    <tr>\n",
       "      <th>19198</th>\n",
       "      <td>1.0000</td>\n",
       "      <td>0.0000</td>\n",
       "      <td>0.0000</td>\n",
       "      <td>1.0000</td>\n",
       "      <td>0.0000</td>\n",
       "      <td>0.0000</td>\n",
       "    </tr>\n",
       "    <tr>\n",
       "      <th>19199</th>\n",
       "      <td>0.0000</td>\n",
       "      <td>1.0000</td>\n",
       "      <td>0.0000</td>\n",
       "      <td>0.0000</td>\n",
       "      <td>1.0000</td>\n",
       "      <td>0.0000</td>\n",
       "    </tr>\n",
       "  </tbody>\n",
       "</table>\n",
       "<p>19200 rows × 6 columns</p>\n",
       "</div>"
      ],
      "text/plain": [
       "       sex_1  sex_2  marriage_0  marriage_1  marriage_2  marriage_3\n",
       "0     1.0000 0.0000      0.0000      1.0000      0.0000      0.0000\n",
       "1     1.0000 0.0000      0.0000      0.0000      1.0000      0.0000\n",
       "2     0.0000 1.0000      0.0000      1.0000      0.0000      0.0000\n",
       "3     0.0000 1.0000      0.0000      1.0000      0.0000      0.0000\n",
       "4     1.0000 0.0000      0.0000      0.0000      1.0000      0.0000\n",
       "...      ...    ...         ...         ...         ...         ...\n",
       "19195 0.0000 1.0000      0.0000      1.0000      0.0000      0.0000\n",
       "19196 0.0000 1.0000      0.0000      0.0000      1.0000      0.0000\n",
       "19197 1.0000 0.0000      0.0000      0.0000      1.0000      0.0000\n",
       "19198 1.0000 0.0000      0.0000      1.0000      0.0000      0.0000\n",
       "19199 0.0000 1.0000      0.0000      0.0000      1.0000      0.0000\n",
       "\n",
       "[19200 rows x 6 columns]"
      ]
     },
     "execution_count": 12,
     "metadata": {},
     "output_type": "execute_result"
    }
   ],
   "source": [
    "# let's check what the encoder did\n",
    "one_hot_encoder.categories_ # after we fit the encoder, the instance learns which values are present in each data column.\n",
    "encoded_names = one_hot_encoder.get_feature_names_out() # with this method we can retrieve the names of the new dummy columns that have been computed\n",
    "encoded_names\n",
    "encoded_categories = one_hot_encoder.transform(fitting_splits.train_set[['sex', 'marriage']]).toarray() # at this point, we can use the fitted encoder to transform any array with a sex and marriage column; not just the training set, but also the validation or test set. The encoder will take that array of shape (M,2) and transform it to an array of shape (M, N), where N is the total number of distinct possible values for the encoded features. The values of the new array will be either 0 or 1, encoding whether that value of the feature applies to the row.\n",
    "df_encoded = pd.DataFrame(encoded_categories)\n",
    "df_encoded.columns = encoded_names\n",
    "df_encoded"
   ]
  },
  {
   "cell_type": "code",
   "execution_count": 13,
   "metadata": {},
   "outputs": [
    {
     "data": {
      "text/html": [
       "<div>\n",
       "<style scoped>\n",
       "    .dataframe tbody tr th:only-of-type {\n",
       "        vertical-align: middle;\n",
       "    }\n",
       "\n",
       "    .dataframe tbody tr th {\n",
       "        vertical-align: top;\n",
       "    }\n",
       "\n",
       "    .dataframe thead th {\n",
       "        text-align: right;\n",
       "    }\n",
       "</style>\n",
       "<table border=\"1\" class=\"dataframe\">\n",
       "  <thead>\n",
       "    <tr style=\"text-align: right;\">\n",
       "      <th></th>\n",
       "      <th>id</th>\n",
       "      <th>limit_bal</th>\n",
       "      <th>education</th>\n",
       "      <th>age</th>\n",
       "      <th>pay_1</th>\n",
       "      <th>pay_2</th>\n",
       "      <th>pay_3</th>\n",
       "      <th>pay_4</th>\n",
       "      <th>pay_5</th>\n",
       "      <th>pay_6</th>\n",
       "      <th>...</th>\n",
       "      <th>pay_amt6</th>\n",
       "      <th>default</th>\n",
       "      <th>max_delay</th>\n",
       "      <th>freq_delay</th>\n",
       "      <th>sex_1</th>\n",
       "      <th>sex_2</th>\n",
       "      <th>marriage_0</th>\n",
       "      <th>marriage_1</th>\n",
       "      <th>marriage_2</th>\n",
       "      <th>marriage_3</th>\n",
       "    </tr>\n",
       "  </thead>\n",
       "  <tbody>\n",
       "    <tr>\n",
       "      <th>0</th>\n",
       "      <td>13126</td>\n",
       "      <td>400000</td>\n",
       "      <td>1</td>\n",
       "      <td>34</td>\n",
       "      <td>-2</td>\n",
       "      <td>-2</td>\n",
       "      <td>-2</td>\n",
       "      <td>-2</td>\n",
       "      <td>-2</td>\n",
       "      <td>-2</td>\n",
       "      <td>...</td>\n",
       "      <td>0</td>\n",
       "      <td>0</td>\n",
       "      <td>-2</td>\n",
       "      <td>0</td>\n",
       "      <td>1.0000</td>\n",
       "      <td>0.0000</td>\n",
       "      <td>0.0000</td>\n",
       "      <td>1.0000</td>\n",
       "      <td>0.0000</td>\n",
       "      <td>0.0000</td>\n",
       "    </tr>\n",
       "    <tr>\n",
       "      <th>1</th>\n",
       "      <td>14636</td>\n",
       "      <td>80000</td>\n",
       "      <td>2</td>\n",
       "      <td>34</td>\n",
       "      <td>0</td>\n",
       "      <td>0</td>\n",
       "      <td>0</td>\n",
       "      <td>0</td>\n",
       "      <td>0</td>\n",
       "      <td>0</td>\n",
       "      <td>...</td>\n",
       "      <td>2000</td>\n",
       "      <td>0</td>\n",
       "      <td>0</td>\n",
       "      <td>6</td>\n",
       "      <td>1.0000</td>\n",
       "      <td>0.0000</td>\n",
       "      <td>0.0000</td>\n",
       "      <td>0.0000</td>\n",
       "      <td>1.0000</td>\n",
       "      <td>0.0000</td>\n",
       "    </tr>\n",
       "    <tr>\n",
       "      <th>2</th>\n",
       "      <td>4382</td>\n",
       "      <td>20000</td>\n",
       "      <td>2</td>\n",
       "      <td>41</td>\n",
       "      <td>-1</td>\n",
       "      <td>-1</td>\n",
       "      <td>-1</td>\n",
       "      <td>-1</td>\n",
       "      <td>-1</td>\n",
       "      <td>-1</td>\n",
       "      <td>...</td>\n",
       "      <td>0</td>\n",
       "      <td>0</td>\n",
       "      <td>-1</td>\n",
       "      <td>0</td>\n",
       "      <td>0.0000</td>\n",
       "      <td>1.0000</td>\n",
       "      <td>0.0000</td>\n",
       "      <td>1.0000</td>\n",
       "      <td>0.0000</td>\n",
       "      <td>0.0000</td>\n",
       "    </tr>\n",
       "    <tr>\n",
       "      <th>3</th>\n",
       "      <td>7660</td>\n",
       "      <td>70000</td>\n",
       "      <td>1</td>\n",
       "      <td>36</td>\n",
       "      <td>2</td>\n",
       "      <td>0</td>\n",
       "      <td>0</td>\n",
       "      <td>0</td>\n",
       "      <td>0</td>\n",
       "      <td>0</td>\n",
       "      <td>...</td>\n",
       "      <td>0</td>\n",
       "      <td>0</td>\n",
       "      <td>2</td>\n",
       "      <td>6</td>\n",
       "      <td>0.0000</td>\n",
       "      <td>1.0000</td>\n",
       "      <td>0.0000</td>\n",
       "      <td>1.0000</td>\n",
       "      <td>0.0000</td>\n",
       "      <td>0.0000</td>\n",
       "    </tr>\n",
       "    <tr>\n",
       "      <th>4</th>\n",
       "      <td>10638</td>\n",
       "      <td>50000</td>\n",
       "      <td>2</td>\n",
       "      <td>24</td>\n",
       "      <td>0</td>\n",
       "      <td>0</td>\n",
       "      <td>0</td>\n",
       "      <td>0</td>\n",
       "      <td>0</td>\n",
       "      <td>0</td>\n",
       "      <td>...</td>\n",
       "      <td>1000</td>\n",
       "      <td>0</td>\n",
       "      <td>0</td>\n",
       "      <td>6</td>\n",
       "      <td>1.0000</td>\n",
       "      <td>0.0000</td>\n",
       "      <td>0.0000</td>\n",
       "      <td>0.0000</td>\n",
       "      <td>1.0000</td>\n",
       "      <td>0.0000</td>\n",
       "    </tr>\n",
       "    <tr>\n",
       "      <th>...</th>\n",
       "      <td>...</td>\n",
       "      <td>...</td>\n",
       "      <td>...</td>\n",
       "      <td>...</td>\n",
       "      <td>...</td>\n",
       "      <td>...</td>\n",
       "      <td>...</td>\n",
       "      <td>...</td>\n",
       "      <td>...</td>\n",
       "      <td>...</td>\n",
       "      <td>...</td>\n",
       "      <td>...</td>\n",
       "      <td>...</td>\n",
       "      <td>...</td>\n",
       "      <td>...</td>\n",
       "      <td>...</td>\n",
       "      <td>...</td>\n",
       "      <td>...</td>\n",
       "      <td>...</td>\n",
       "      <td>...</td>\n",
       "      <td>...</td>\n",
       "    </tr>\n",
       "    <tr>\n",
       "      <th>19195</th>\n",
       "      <td>5299</td>\n",
       "      <td>200000</td>\n",
       "      <td>2</td>\n",
       "      <td>29</td>\n",
       "      <td>0</td>\n",
       "      <td>0</td>\n",
       "      <td>0</td>\n",
       "      <td>0</td>\n",
       "      <td>0</td>\n",
       "      <td>0</td>\n",
       "      <td>...</td>\n",
       "      <td>44701</td>\n",
       "      <td>0</td>\n",
       "      <td>0</td>\n",
       "      <td>6</td>\n",
       "      <td>0.0000</td>\n",
       "      <td>1.0000</td>\n",
       "      <td>0.0000</td>\n",
       "      <td>1.0000</td>\n",
       "      <td>0.0000</td>\n",
       "      <td>0.0000</td>\n",
       "    </tr>\n",
       "    <tr>\n",
       "      <th>19196</th>\n",
       "      <td>6120</td>\n",
       "      <td>50000</td>\n",
       "      <td>2</td>\n",
       "      <td>24</td>\n",
       "      <td>2</td>\n",
       "      <td>0</td>\n",
       "      <td>0</td>\n",
       "      <td>2</td>\n",
       "      <td>2</td>\n",
       "      <td>2</td>\n",
       "      <td>...</td>\n",
       "      <td>2200</td>\n",
       "      <td>1</td>\n",
       "      <td>2</td>\n",
       "      <td>6</td>\n",
       "      <td>0.0000</td>\n",
       "      <td>1.0000</td>\n",
       "      <td>0.0000</td>\n",
       "      <td>0.0000</td>\n",
       "      <td>1.0000</td>\n",
       "      <td>0.0000</td>\n",
       "    </tr>\n",
       "    <tr>\n",
       "      <th>19197</th>\n",
       "      <td>63</td>\n",
       "      <td>50000</td>\n",
       "      <td>1</td>\n",
       "      <td>29</td>\n",
       "      <td>2</td>\n",
       "      <td>2</td>\n",
       "      <td>2</td>\n",
       "      <td>2</td>\n",
       "      <td>2</td>\n",
       "      <td>2</td>\n",
       "      <td>...</td>\n",
       "      <td>0</td>\n",
       "      <td>1</td>\n",
       "      <td>2</td>\n",
       "      <td>6</td>\n",
       "      <td>1.0000</td>\n",
       "      <td>0.0000</td>\n",
       "      <td>0.0000</td>\n",
       "      <td>0.0000</td>\n",
       "      <td>1.0000</td>\n",
       "      <td>0.0000</td>\n",
       "    </tr>\n",
       "    <tr>\n",
       "      <th>19198</th>\n",
       "      <td>3498</td>\n",
       "      <td>240000</td>\n",
       "      <td>2</td>\n",
       "      <td>37</td>\n",
       "      <td>-1</td>\n",
       "      <td>-1</td>\n",
       "      <td>-1</td>\n",
       "      <td>0</td>\n",
       "      <td>0</td>\n",
       "      <td>0</td>\n",
       "      <td>...</td>\n",
       "      <td>21257</td>\n",
       "      <td>0</td>\n",
       "      <td>0</td>\n",
       "      <td>3</td>\n",
       "      <td>1.0000</td>\n",
       "      <td>0.0000</td>\n",
       "      <td>0.0000</td>\n",
       "      <td>1.0000</td>\n",
       "      <td>0.0000</td>\n",
       "      <td>0.0000</td>\n",
       "    </tr>\n",
       "    <tr>\n",
       "      <th>19199</th>\n",
       "      <td>4692</td>\n",
       "      <td>80000</td>\n",
       "      <td>1</td>\n",
       "      <td>25</td>\n",
       "      <td>-1</td>\n",
       "      <td>-1</td>\n",
       "      <td>-2</td>\n",
       "      <td>-2</td>\n",
       "      <td>-2</td>\n",
       "      <td>-2</td>\n",
       "      <td>...</td>\n",
       "      <td>0</td>\n",
       "      <td>0</td>\n",
       "      <td>-1</td>\n",
       "      <td>0</td>\n",
       "      <td>0.0000</td>\n",
       "      <td>1.0000</td>\n",
       "      <td>0.0000</td>\n",
       "      <td>0.0000</td>\n",
       "      <td>1.0000</td>\n",
       "      <td>0.0000</td>\n",
       "    </tr>\n",
       "  </tbody>\n",
       "</table>\n",
       "<p>19200 rows × 31 columns</p>\n",
       "</div>"
      ],
      "text/plain": [
       "          id  limit_bal education  age  pay_1  pay_2  pay_3  pay_4  pay_5  \\\n",
       "0      13126     400000         1   34     -2     -2     -2     -2     -2   \n",
       "1      14636      80000         2   34      0      0      0      0      0   \n",
       "2       4382      20000         2   41     -1     -1     -1     -1     -1   \n",
       "3       7660      70000         1   36      2      0      0      0      0   \n",
       "4      10638      50000         2   24      0      0      0      0      0   \n",
       "...      ...        ...       ...  ...    ...    ...    ...    ...    ...   \n",
       "19195   5299     200000         2   29      0      0      0      0      0   \n",
       "19196   6120      50000         2   24      2      0      0      2      2   \n",
       "19197     63      50000         1   29      2      2      2      2      2   \n",
       "19198   3498     240000         2   37     -1     -1     -1      0      0   \n",
       "19199   4692      80000         1   25     -1     -1     -2     -2     -2   \n",
       "\n",
       "       pay_6  ...  pay_amt6  default  max_delay  freq_delay  sex_1  sex_2  \\\n",
       "0         -2  ...         0        0         -2           0 1.0000 0.0000   \n",
       "1          0  ...      2000        0          0           6 1.0000 0.0000   \n",
       "2         -1  ...         0        0         -1           0 0.0000 1.0000   \n",
       "3          0  ...         0        0          2           6 0.0000 1.0000   \n",
       "4          0  ...      1000        0          0           6 1.0000 0.0000   \n",
       "...      ...  ...       ...      ...        ...         ...    ...    ...   \n",
       "19195      0  ...     44701        0          0           6 0.0000 1.0000   \n",
       "19196      2  ...      2200        1          2           6 0.0000 1.0000   \n",
       "19197      2  ...         0        1          2           6 1.0000 0.0000   \n",
       "19198      0  ...     21257        0          0           3 1.0000 0.0000   \n",
       "19199     -2  ...         0        0         -1           0 0.0000 1.0000   \n",
       "\n",
       "       marriage_0  marriage_1  marriage_2  marriage_3  \n",
       "0          0.0000      1.0000      0.0000      0.0000  \n",
       "1          0.0000      0.0000      1.0000      0.0000  \n",
       "2          0.0000      1.0000      0.0000      0.0000  \n",
       "3          0.0000      1.0000      0.0000      0.0000  \n",
       "4          0.0000      0.0000      1.0000      0.0000  \n",
       "...           ...         ...         ...         ...  \n",
       "19195      0.0000      1.0000      0.0000      0.0000  \n",
       "19196      0.0000      0.0000      1.0000      0.0000  \n",
       "19197      0.0000      0.0000      1.0000      0.0000  \n",
       "19198      0.0000      1.0000      0.0000      0.0000  \n",
       "19199      0.0000      0.0000      1.0000      0.0000  \n",
       "\n",
       "[19200 rows x 31 columns]"
      ]
     },
     "execution_count": 13,
     "metadata": {},
     "output_type": "execute_result"
    }
   ],
   "source": [
    "# after we have generated the dummy columns, we want to drop the original columns from the training data, and replace them with the dummy columns\n",
    "train_set = fitting_splits.train_set.drop(['sex', 'marriage'], axis=1)\n",
    "train_set = pd.concat([train_set, df_encoded], axis=1)\n",
    "train_set"
   ]
  },
  {
   "cell_type": "code",
   "execution_count": 14,
   "metadata": {},
   "outputs": [
    {
     "data": {
      "text/plain": [
       "array([[-0.21841965,  1.7815938 , -1.08178447, ...,  1.09077084,\n",
       "        -1.0626906 , -0.10666772],\n",
       "       [-0.04407662, -0.67718435,  0.18686089, ..., -0.91678285,\n",
       "         0.94100767, -0.10666772],\n",
       "       [-1.22799282, -1.13820525,  0.18686089, ...,  1.09077084,\n",
       "        -1.0626906 , -0.10666772],\n",
       "       ...,\n",
       "       [-1.72666008, -0.9076948 , -1.08178447, ..., -0.91678285,\n",
       "         0.94100767, -0.10666772],\n",
       "       [-1.33005855,  0.55220472,  0.18686089, ...,  1.09077084,\n",
       "        -1.0626906 , -0.10666772],\n",
       "       [-1.19220054, -0.67718435, -1.08178447, ..., -0.91678285,\n",
       "         0.94100767, -0.10666772]])"
      ]
     },
     "execution_count": 14,
     "metadata": {},
     "output_type": "execute_result"
    }
   ],
   "source": [
    "# now we fit the StandardScaler, in order to standardize all the features\n",
    "standard_scaler = StandardScaler()\n",
    "standard_scaler = standard_scaler.fit(train_set)\n",
    "\n",
    "# the above standard scaler, when apply to a dataset with the same columns as the train set, will scale all the numerical features and return a numpy array\n",
    "standard_scaler.transform(train_set)"
   ]
  },
  {
   "cell_type": "markdown",
   "metadata": {},
   "source": [
    "**Note** In the code above, I am scaling the dummified features. This is not really necessary and it's actually not best practice: it would be a lot better to scale the other features, but leave the dummy columns unscaled as they are already between 0-1.\n",
    "\n",
    "**Exercise**: How can we modify the code above so that we don't scale the dummy features?"
   ]
  },
  {
   "cell_type": "markdown",
   "metadata": {},
   "source": [
    "Once we have a one hot encoder and a standard scaler fitted on the training data, it is handy to combine all the transformations needed to prepare a dataset with the same schema as the training dataset into a function. This is so that we can apply it to training/validation/test easily, and any new dataset with the same columns that we might get in the future."
   ]
  },
  {
   "cell_type": "code",
   "execution_count": 15,
   "metadata": {},
   "outputs": [],
   "source": [
    "def dummify(df, one_hot_encoder):\n",
    "    vars_to_encode = ['sex', 'marriage']\n",
    "    df_to_encode = df[vars_to_encode]\n",
    "    if not one_hot_encoder:\n",
    "        one_hot_encoder = OneHotEncoder()\n",
    "        df_encoded = one_hot_encoder.fit_transform(df_to_encode).toarray()\n",
    "    else:\n",
    "        df_encoded = one_hot_encoder.transform(df_to_encode).toarray()\n",
    "    df_encoded = pd.DataFrame(df_encoded)\n",
    "    df_encoded.columns = one_hot_encoder.get_feature_names_out()\n",
    "    # add the encoded columns and drop the original columns\n",
    "    df = df.drop(vars_to_encode,axis=1)\n",
    "    df = pd.concat([df, df_encoded], axis=1)\n",
    "    return df, one_hot_encoder\n",
    "\n",
    "def scale(df, standard_scaler):\n",
    "    cols = df.columns\n",
    "    if not standard_scaler:\n",
    "        standard_scaler = StandardScaler()\n",
    "        df = standard_scaler.fit_transform(df)\n",
    "    else:\n",
    "        df = standard_scaler.transform(df)\n",
    "    df = pd.DataFrame(df)\n",
    "    df.columns = cols\n",
    "    return df, standard_scaler\n",
    "\n",
    "def prepare_data(df, one_hot_encoder=None, standard_scaler=None):\n",
    "    df = df.reset_index(drop=True)\n",
    "    df, one_hot_encoder = dummify(df, one_hot_encoder)\n",
    "    df, standard_scaler = scale(df, standard_scaler)\n",
    "    return df, one_hot_encoder, standard_scaler"
   ]
  },
  {
   "cell_type": "code",
   "execution_count": 16,
   "metadata": {},
   "outputs": [],
   "source": [
    "# now we prepare all the data we use below\n",
    "X_train, one_hot_encoder, standard_scaler = prepare_data(fitting_splits.train_set)\n",
    "X_train = X_train.drop([\"default\", \"id\"],axis=1)  # need to drop the target! otherwise data leakage\n",
    "y_train = fitting_splits.train_set[\"default\"]\n",
    "\n",
    "X_validation = prepare_data(fitting_splits.validation_set, one_hot_encoder, standard_scaler)[0]\n",
    "X_validation = X_validation.drop([\"default\", \"id\"],axis=1)\n",
    "y_validation = fitting_splits.validation_set[\"default\"]\n",
    "\n",
    "X_test = prepare_data(fitting_splits.test_set, one_hot_encoder, standard_scaler)[0].drop([\"default\", \"id\"],axis=1)\n",
    "y_test = fitting_splits.test_set[\"default\"]\n",
    "\n",
    "X_train_validation = pd.concat([X_train, X_validation])\n",
    "y_train_validation = pd.concat([y_train, y_validation])"
   ]
  },
  {
   "cell_type": "markdown",
   "metadata": {},
   "source": [
    "## Modeling with SVC\n",
    "\n",
    "Now, we can move on to train some models.\n",
    "First, we are going to try a new model that we have not\n",
    "\n",
    "1. First, we are going to train a default SVC model on the train set, and use it to predict on the test set. This is just to illustrate the code and the steps involved in fitting and predicting with a model using sklearn.\n",
    "2. Then we are going to evaluate the predictions that the above model generates on the test set. How is the model performing?\n",
    "3. Then, we are going to:\n",
    "    - perform a train-validation grid-search in the hyperparameter space of the SVC model (**hyperparameter tuning**)\n",
    "    - choose the best set of hyperparameters among those explored\n",
    "    - train a SVC model with the found hyperparameters on train + validation, and predict on test \n",
    "4. Finally, we are going to evaluate the predictions of the resulting model at point 3"
   ]
  },
  {
   "cell_type": "markdown",
   "metadata": {},
   "source": [
    "### Simple train/test model"
   ]
  },
  {
   "cell_type": "code",
   "execution_count": 20,
   "metadata": {},
   "outputs": [
    {
     "data": {
      "text/html": [
       "<style>#sk-container-id-1 {color: black;}#sk-container-id-1 pre{padding: 0;}#sk-container-id-1 div.sk-toggleable {background-color: white;}#sk-container-id-1 label.sk-toggleable__label {cursor: pointer;display: block;width: 100%;margin-bottom: 0;padding: 0.3em;box-sizing: border-box;text-align: center;}#sk-container-id-1 label.sk-toggleable__label-arrow:before {content: \"▸\";float: left;margin-right: 0.25em;color: #696969;}#sk-container-id-1 label.sk-toggleable__label-arrow:hover:before {color: black;}#sk-container-id-1 div.sk-estimator:hover label.sk-toggleable__label-arrow:before {color: black;}#sk-container-id-1 div.sk-toggleable__content {max-height: 0;max-width: 0;overflow: hidden;text-align: left;background-color: #f0f8ff;}#sk-container-id-1 div.sk-toggleable__content pre {margin: 0.2em;color: black;border-radius: 0.25em;background-color: #f0f8ff;}#sk-container-id-1 input.sk-toggleable__control:checked~div.sk-toggleable__content {max-height: 200px;max-width: 100%;overflow: auto;}#sk-container-id-1 input.sk-toggleable__control:checked~label.sk-toggleable__label-arrow:before {content: \"▾\";}#sk-container-id-1 div.sk-estimator input.sk-toggleable__control:checked~label.sk-toggleable__label {background-color: #d4ebff;}#sk-container-id-1 div.sk-label input.sk-toggleable__control:checked~label.sk-toggleable__label {background-color: #d4ebff;}#sk-container-id-1 input.sk-hidden--visually {border: 0;clip: rect(1px 1px 1px 1px);clip: rect(1px, 1px, 1px, 1px);height: 1px;margin: -1px;overflow: hidden;padding: 0;position: absolute;width: 1px;}#sk-container-id-1 div.sk-estimator {font-family: monospace;background-color: #f0f8ff;border: 1px dotted black;border-radius: 0.25em;box-sizing: border-box;margin-bottom: 0.5em;}#sk-container-id-1 div.sk-estimator:hover {background-color: #d4ebff;}#sk-container-id-1 div.sk-parallel-item::after {content: \"\";width: 100%;border-bottom: 1px solid gray;flex-grow: 1;}#sk-container-id-1 div.sk-label:hover label.sk-toggleable__label {background-color: #d4ebff;}#sk-container-id-1 div.sk-serial::before {content: \"\";position: absolute;border-left: 1px solid gray;box-sizing: border-box;top: 0;bottom: 0;left: 50%;z-index: 0;}#sk-container-id-1 div.sk-serial {display: flex;flex-direction: column;align-items: center;background-color: white;padding-right: 0.2em;padding-left: 0.2em;position: relative;}#sk-container-id-1 div.sk-item {position: relative;z-index: 1;}#sk-container-id-1 div.sk-parallel {display: flex;align-items: stretch;justify-content: center;background-color: white;position: relative;}#sk-container-id-1 div.sk-item::before, #sk-container-id-1 div.sk-parallel-item::before {content: \"\";position: absolute;border-left: 1px solid gray;box-sizing: border-box;top: 0;bottom: 0;left: 50%;z-index: -1;}#sk-container-id-1 div.sk-parallel-item {display: flex;flex-direction: column;z-index: 1;position: relative;background-color: white;}#sk-container-id-1 div.sk-parallel-item:first-child::after {align-self: flex-end;width: 50%;}#sk-container-id-1 div.sk-parallel-item:last-child::after {align-self: flex-start;width: 50%;}#sk-container-id-1 div.sk-parallel-item:only-child::after {width: 0;}#sk-container-id-1 div.sk-dashed-wrapped {border: 1px dashed gray;margin: 0 0.4em 0.5em 0.4em;box-sizing: border-box;padding-bottom: 0.4em;background-color: white;}#sk-container-id-1 div.sk-label label {font-family: monospace;font-weight: bold;display: inline-block;line-height: 1.2em;}#sk-container-id-1 div.sk-label-container {text-align: center;}#sk-container-id-1 div.sk-container {/* jupyter's `normalize.less` sets `[hidden] { display: none; }` but bootstrap.min.css set `[hidden] { display: none !important; }` so we also need the `!important` here to be able to override the default hidden behavior on the sphinx rendered scikit-learn.org. See: https://github.com/scikit-learn/scikit-learn/issues/21755 */display: inline-block !important;position: relative;}#sk-container-id-1 div.sk-text-repr-fallback {display: none;}</style><div id=\"sk-container-id-1\" class=\"sk-top-container\"><div class=\"sk-text-repr-fallback\"><pre>SVC(gamma=&#x27;auto&#x27;, random_state=1234)</pre><b>In a Jupyter environment, please rerun this cell to show the HTML representation or trust the notebook. <br />On GitHub, the HTML representation is unable to render, please try loading this page with nbviewer.org.</b></div><div class=\"sk-container\" hidden><div class=\"sk-item\"><div class=\"sk-estimator sk-toggleable\"><input class=\"sk-toggleable__control sk-hidden--visually\" id=\"sk-estimator-id-1\" type=\"checkbox\" checked><label for=\"sk-estimator-id-1\" class=\"sk-toggleable__label sk-toggleable__label-arrow\">SVC</label><div class=\"sk-toggleable__content\"><pre>SVC(gamma=&#x27;auto&#x27;, random_state=1234)</pre></div></div></div></div></div>"
      ],
      "text/plain": [
       "SVC(gamma='auto', random_state=1234)"
      ]
     },
     "execution_count": 20,
     "metadata": {},
     "output_type": "execute_result"
    }
   ],
   "source": [
    "# create the model instance\n",
    "simple_SVC = SVC(gamma='auto', random_state=1234)\n",
    "# fit the model instance on X_train\n",
    "simple_SVC.fit(X=X_train, y=y_train)"
   ]
  },
  {
   "cell_type": "code",
   "execution_count": 21,
   "metadata": {},
   "outputs": [
    {
     "data": {
      "text/plain": [
       "0       0\n",
       "1       0\n",
       "2       0\n",
       "3       0\n",
       "4       0\n",
       "       ..\n",
       "5995    0\n",
       "5996    1\n",
       "5997    1\n",
       "5998    0\n",
       "5999    0\n",
       "Length: 6000, dtype: int64"
      ]
     },
     "execution_count": 21,
     "metadata": {},
     "output_type": "execute_result"
    }
   ],
   "source": [
    "# now we can use the fitted simple_SVC model to predict on the test dataset!\n",
    "y_hat_test = simple_SVC.predict(X_test)\n",
    "# the result is a vector of predicted classes for the observations in validation, which the model was not trained on!\n",
    "pd.Series(y_hat_test)"
   ]
  },
  {
   "cell_type": "code",
   "execution_count": 22,
   "metadata": {},
   "outputs": [
    {
     "data": {
      "text/plain": [
       "0    5338\n",
       "1     662\n",
       "Name: count, dtype: int64"
      ]
     },
     "execution_count": 22,
     "metadata": {},
     "output_type": "execute_result"
    },
    {
     "data": {
      "text/plain": [
       "default\n",
       "0    4693\n",
       "1    1307\n",
       "Name: count, dtype: int64"
      ]
     },
     "execution_count": 22,
     "metadata": {},
     "output_type": "execute_result"
    }
   ],
   "source": [
    "pd.Series(y_hat_test).value_counts()\n",
    "fitting_splits.test_set['default'].value_counts()"
   ]
  },
  {
   "cell_type": "markdown",
   "metadata": {},
   "source": [
    "We can already clearly see that the model is underpredicting the minority class and overpredicting on the majority class. Let's, however, look at the performance of the model in more detail (on the test set)."
   ]
  },
  {
   "cell_type": "markdown",
   "metadata": {},
   "source": [
    "#### Evaluate the model performance"
   ]
  },
  {
   "cell_type": "markdown",
   "metadata": {},
   "source": [
    "We can now evaluate the classification performance of the model on the test set.\n",
    "There are various possible metrics that can be useful to evaluate the model performance. In particular, the following can be considered:\n",
    "\n",
    "- accuracy score: the percentage of examples that was correctly classified (see https://scikit-learn.org/stable/modules/generated/sklearn.metrics.accuracy_score.html)\n",
    "    - pros: simple to interpret and communicate to non-technical people\n",
    "    - cons: it can be too simple and disguise bad performance as good performance, for instance in the case of imbalanced datasets\n",
    "\n",
    "- confusion matrix: create the 2 x 2 confusion matrix, and use it to evaluate the model misclassifications:\n",
    "   - pros: easy to interpret, visual, shows the difference in classification accuracy on the two classes\n",
    "   - cons: it does not provide a single accuracy metrics, which is useful to compare multiple models against each other\n",
    "\n",
    "<div>\n",
    "<img src=\"img/confusion_matrix.png\" width=\"400\">\n",
    "</div>\n",
    "\n",
    "- evaluate the precision and recall of the classification separately:\n",
    "    - precision: the % of the examples classified as positives (defaults) that are actually positive: TP / TP + FP\n",
    "    - recall: the % of the actually positive examples (defaults) that was classified as positive: TP / TP + FN\n",
    "\n",
    "- F1-score: the harmonic mean of the precision and recall scores (see above).\n",
    "   - calculated as TP/(TP + 1/2(FP + FN)). Ranges between 0 and 1.\n",
    "   - the higher the score, the better the model\n",
    "   - weights false negatives and false positives equally (which might now always be what you want, as these can have different associated costs)\n",
    "    - pros: it combines precision and recall into a single score that can be used to evaluate models\n",
    "    - pros: realiable with imbalanced datasets\n",
    "    - cons: it can be hard to explain to stakeholders. "
   ]
  },
  {
   "cell_type": "markdown",
   "metadata": {},
   "source": [
    "For the present exercise, we are going to use the F1-score to evaluate the classification accuracy. Sklearn has a handy function in the metrics module to calculate the F1 score, the f1_score function."
   ]
  },
  {
   "cell_type": "code",
   "execution_count": 23,
   "metadata": {},
   "outputs": [
    {
     "data": {
      "text/plain": [
       "0.44"
      ]
     },
     "execution_count": 23,
     "metadata": {},
     "output_type": "execute_result"
    }
   ],
   "source": [
    "round(f1_score(y_test, y_hat_test), 2)"
   ]
  },
  {
   "cell_type": "markdown",
   "metadata": {},
   "source": [
    "We got 0.44 ~ 0.45 as an F1 score with the default model. Is this good? Is this bad? These are in principle the wrong questions. An f1 score is a **relative** measure of accuracy, i.e., it is useful to compare different models against each other, and determine which one is the better classifier. But it's not useful by itself in isolation."
   ]
  },
  {
   "cell_type": "markdown",
   "metadata": {},
   "source": [
    "For instance, consider the simplest possible classification model: the model that classifies everything as 0 (no default). The F1 score of this model then is:"
   ]
  },
  {
   "cell_type": "code",
   "execution_count": 24,
   "metadata": {},
   "outputs": [
    {
     "data": {
      "text/plain": [
       "0.0"
      ]
     },
     "execution_count": 24,
     "metadata": {},
     "output_type": "execute_result"
    }
   ],
   "source": [
    "f1_score(y_test, np.zeros(fitting_splits.test_set.shape[0]))"
   ]
  },
  {
   "cell_type": "markdown",
   "metadata": {},
   "source": [
    "According to the F1-score, this model sucks (it's the worst possible model), even though its accuracy might be quite high because of the imbalanced data. The F1 score is the correct measure here, but it's also telling us that the model above is a better model than this naive model."
   ]
  },
  {
   "cell_type": "markdown",
   "metadata": {},
   "source": [
    "Since we have an imbalanced dataset, we might want to do a quick try and see if we can improve the performance by balancing it. The quickest way to do this is to **downsample** the negative class so as to achieve balance. Let's see what happens."
   ]
  },
  {
   "cell_type": "code",
   "execution_count": 25,
   "metadata": {},
   "outputs": [
    {
     "data": {
      "text/plain": [
       "default\n",
       "0    14888\n",
       "1     4312\n",
       "dtype: int64"
      ]
     },
     "execution_count": 25,
     "metadata": {},
     "output_type": "execute_result"
    },
    {
     "data": {
      "text/html": [
       "<style>#sk-container-id-2 {color: black;}#sk-container-id-2 pre{padding: 0;}#sk-container-id-2 div.sk-toggleable {background-color: white;}#sk-container-id-2 label.sk-toggleable__label {cursor: pointer;display: block;width: 100%;margin-bottom: 0;padding: 0.3em;box-sizing: border-box;text-align: center;}#sk-container-id-2 label.sk-toggleable__label-arrow:before {content: \"▸\";float: left;margin-right: 0.25em;color: #696969;}#sk-container-id-2 label.sk-toggleable__label-arrow:hover:before {color: black;}#sk-container-id-2 div.sk-estimator:hover label.sk-toggleable__label-arrow:before {color: black;}#sk-container-id-2 div.sk-toggleable__content {max-height: 0;max-width: 0;overflow: hidden;text-align: left;background-color: #f0f8ff;}#sk-container-id-2 div.sk-toggleable__content pre {margin: 0.2em;color: black;border-radius: 0.25em;background-color: #f0f8ff;}#sk-container-id-2 input.sk-toggleable__control:checked~div.sk-toggleable__content {max-height: 200px;max-width: 100%;overflow: auto;}#sk-container-id-2 input.sk-toggleable__control:checked~label.sk-toggleable__label-arrow:before {content: \"▾\";}#sk-container-id-2 div.sk-estimator input.sk-toggleable__control:checked~label.sk-toggleable__label {background-color: #d4ebff;}#sk-container-id-2 div.sk-label input.sk-toggleable__control:checked~label.sk-toggleable__label {background-color: #d4ebff;}#sk-container-id-2 input.sk-hidden--visually {border: 0;clip: rect(1px 1px 1px 1px);clip: rect(1px, 1px, 1px, 1px);height: 1px;margin: -1px;overflow: hidden;padding: 0;position: absolute;width: 1px;}#sk-container-id-2 div.sk-estimator {font-family: monospace;background-color: #f0f8ff;border: 1px dotted black;border-radius: 0.25em;box-sizing: border-box;margin-bottom: 0.5em;}#sk-container-id-2 div.sk-estimator:hover {background-color: #d4ebff;}#sk-container-id-2 div.sk-parallel-item::after {content: \"\";width: 100%;border-bottom: 1px solid gray;flex-grow: 1;}#sk-container-id-2 div.sk-label:hover label.sk-toggleable__label {background-color: #d4ebff;}#sk-container-id-2 div.sk-serial::before {content: \"\";position: absolute;border-left: 1px solid gray;box-sizing: border-box;top: 0;bottom: 0;left: 50%;z-index: 0;}#sk-container-id-2 div.sk-serial {display: flex;flex-direction: column;align-items: center;background-color: white;padding-right: 0.2em;padding-left: 0.2em;position: relative;}#sk-container-id-2 div.sk-item {position: relative;z-index: 1;}#sk-container-id-2 div.sk-parallel {display: flex;align-items: stretch;justify-content: center;background-color: white;position: relative;}#sk-container-id-2 div.sk-item::before, #sk-container-id-2 div.sk-parallel-item::before {content: \"\";position: absolute;border-left: 1px solid gray;box-sizing: border-box;top: 0;bottom: 0;left: 50%;z-index: -1;}#sk-container-id-2 div.sk-parallel-item {display: flex;flex-direction: column;z-index: 1;position: relative;background-color: white;}#sk-container-id-2 div.sk-parallel-item:first-child::after {align-self: flex-end;width: 50%;}#sk-container-id-2 div.sk-parallel-item:last-child::after {align-self: flex-start;width: 50%;}#sk-container-id-2 div.sk-parallel-item:only-child::after {width: 0;}#sk-container-id-2 div.sk-dashed-wrapped {border: 1px dashed gray;margin: 0 0.4em 0.5em 0.4em;box-sizing: border-box;padding-bottom: 0.4em;background-color: white;}#sk-container-id-2 div.sk-label label {font-family: monospace;font-weight: bold;display: inline-block;line-height: 1.2em;}#sk-container-id-2 div.sk-label-container {text-align: center;}#sk-container-id-2 div.sk-container {/* jupyter's `normalize.less` sets `[hidden] { display: none; }` but bootstrap.min.css set `[hidden] { display: none !important; }` so we also need the `!important` here to be able to override the default hidden behavior on the sphinx rendered scikit-learn.org. See: https://github.com/scikit-learn/scikit-learn/issues/21755 */display: inline-block !important;position: relative;}#sk-container-id-2 div.sk-text-repr-fallback {display: none;}</style><div id=\"sk-container-id-2\" class=\"sk-top-container\"><div class=\"sk-text-repr-fallback\"><pre>SVC(gamma=&#x27;auto&#x27;, random_state=1234)</pre><b>In a Jupyter environment, please rerun this cell to show the HTML representation or trust the notebook. <br />On GitHub, the HTML representation is unable to render, please try loading this page with nbviewer.org.</b></div><div class=\"sk-container\" hidden><div class=\"sk-item\"><div class=\"sk-estimator sk-toggleable\"><input class=\"sk-toggleable__control sk-hidden--visually\" id=\"sk-estimator-id-2\" type=\"checkbox\" checked><label for=\"sk-estimator-id-2\" class=\"sk-toggleable__label sk-toggleable__label-arrow\">SVC</label><div class=\"sk-toggleable__content\"><pre>SVC(gamma=&#x27;auto&#x27;, random_state=1234)</pre></div></div></div></div></div>"
      ],
      "text/plain": [
       "SVC(gamma='auto', random_state=1234)"
      ]
     },
     "execution_count": 25,
     "metadata": {},
     "output_type": "execute_result"
    },
    {
     "data": {
      "text/plain": [
       "0.44"
      ]
     },
     "execution_count": 25,
     "metadata": {},
     "output_type": "execute_result"
    }
   ],
   "source": [
    "# check out the distribution of the class in the train set\n",
    "fitting_splits.train_set.groupby('default').size()\n",
    "\n",
    "# we now downsample the negative class, choosing the same number of observations as we have for the positive class\n",
    "# we then discard data and obtain a balanced dataset\n",
    "train_set_sampled = fitting_splits.train_set.sample(4783, random_state=1234)\n",
    "\n",
    "# after this the code is the same as above, to fit and predict with the model\n",
    "train_set_transformed_sampled = prepare_data(train_set_sampled, one_hot_encoder=one_hot_encoder, standard_scaler=standard_scaler)\n",
    "X_train_sampled = train_set_transformed_sampled[0].drop(['default', 'id'], axis=1) # Attention, we need to drop the target! Otherwise we have data leakage\n",
    "y_train_sampled = train_set_sampled['default'] # take the target from the original, untransformed dataset\n",
    "\n",
    "# create the model instance\n",
    "simple_SVC = SVC(gamma='auto', random_state=1234)\n",
    "# fit the model instance on X_train\n",
    "simple_SVC.fit(X=X_train_sampled, y=y_train_sampled)\n",
    "\n",
    "# predict on the test set\n",
    "y_hat_test = simple_SVC.predict(X_test)\n",
    "\n",
    "# the result is a vector of predicted classes for the observations in the test set, which the model was not trained on!\n",
    "round(f1_score(y_test, y_hat_test), 2)"
   ]
  },
  {
   "cell_type": "markdown",
   "metadata": {},
   "source": [
    "The f1 score of the above model is 0.43/0.44 (there might be some variation in your run of the code: this is normal, as there is some randomness involved in fitting the SVC algorithm). \n",
    "\n",
    "In other words, we didn't gain anything by downsampling, compared to the first basic model. That means that the benefit of making the training set balanced is outweighed by the loss of training examples.\n",
    "\n",
    "Most likely, an approach like SMOTE (see the EDA notebook) would work better here."
   ]
  },
  {
   "cell_type": "markdown",
   "metadata": {},
   "source": [
    "### Hypertuning the SVC model"
   ]
  },
  {
   "cell_type": "markdown",
   "metadata": {},
   "source": [
    "In the above, we have fitted and predicted with basically the default SVC model. However, each machine learning model comes with a set of **hyperparameters** that can be tuned. Think of a model as a machine, and of hyperparameters as levers and dials of the machine, which need to be set before it can used. In our case, the hyperparameters must be set before we can train and then predict with the model.\n",
    "\n",
    "But how should we set these parameters? There is no way to set them from data, in the fitting process. Rather, we need to explore the space of possible values for these hyperparameters, and for each combination that we might want to try, fit a model and evaluate its predictive performance. The combination of hyperparameters values that returns the model with the highest performance is the optimal value of hyperparameters among the combination explored.\n",
    "\n",
    "Note that model hyperparameters are different from model parameters. The main difference is that the latter are learned during the fitting process, and estimated directly from the data in this process. The model hyperparameters cannot be estimated in this way because they define the \"shape\" or \"class\" of the model before the training has taken place. See also https://machinelearningmastery.com/difference-between-a-parameter-and-a-hyperparameter/ for an explanation of the difference.\n",
    "\n",
    "Often, a model will have many hyperparameters. Not all of them are important, or have the same impact on the performance of the model. So how do you determine which ones to tune? The only way is from experience, or by understanding the mathematics of the model and understanding which parameters matter the most, or by empirical research that has been done by other researchers"
   ]
  },
  {
   "cell_type": "markdown",
   "metadata": {},
   "source": [
    "For SVMs, the most important parameters are:\n",
    "- The kernel. This is the actual function that maps the observations to the (higher-dimensional) space. In the above, we used the default radial kernel, which is also that which performs the best most of the times\n",
    "- for different kernels there might be different hyperparamters that can be tuned. These hyperparamters usually specify the shape of the transformation of the feature space. For the radial kernel, we have two important ones:\n",
    "    - the gamma parameter\n",
    "    - the C ('cost') parameter\n",
    "\n",
    "You can find a good description of what these parameters control here: https://towardsdatascience.com/svm-hyperparameters-explained-with-visualizations-143e48cb701b, but for now it suffices to understand that these are parameters that control the shape of the model, and their values can have an impact on the model performance."
   ]
  },
  {
   "cell_type": "markdown",
   "metadata": {},
   "source": [
    "Let's say that we want to tune the gamma and C parameter to see if we get a better SVC model. There are various approach to do this, but the simplest is: **grid search**. \n",
    "\n",
    "- This means that we will create a grid with different combinations of values of the two parameters\n",
    "- For each combination of hyperparameter values we fit a SVC model to the data with those hyperparameter values, and predict on the **validation** dataset\n",
    "- The model which returns the best f1-score will show us what the best hyperparameters in the grid are\n",
    "- We can then use these hyperparameters to train a final model on all the fitting data, and predict on the test set"
   ]
  },
  {
   "cell_type": "markdown",
   "metadata": {},
   "source": [
    "<div>\n",
    "<img src=\"img/hyperparameter_tuning.png\" width=\"800\">\n",
    "</div>"
   ]
  },
  {
   "cell_type": "code",
   "execution_count": 18,
   "metadata": {},
   "outputs": [
    {
     "data": {
      "text/plain": [
       "array([3.12500000e-02, 1.63840156e+04, 3.27680000e+04])"
      ]
     },
     "execution_count": 18,
     "metadata": {},
     "output_type": "execute_result"
    },
    {
     "data": {
      "text/plain": [
       "array([3.05175781e-05, 4.00001526e+00, 8.00000000e+00])"
      ]
     },
     "execution_count": 18,
     "metadata": {},
     "output_type": "execute_result"
    }
   ],
   "source": [
    "# define the arrays for the C and gamma parameters that we are going to try. This is our \"grid\"\n",
    "# Just trying 3 * 3 = 9 models here so it doesn't take too long\n",
    "# with e.g. 10 values for each parameter we have already 10 * 10 = 100 models, which takes ~70 minutes on my pc.\n",
    "C_range = [2 ** -5, 2 ** 15]\n",
    "gamma_range = [2 ** -15, 2 ** 3]\n",
    "C_grid = np.linspace(C_range[0], C_range[1], num=3)\n",
    "gamma_grid = np.linspace(gamma_range[0], gamma_range[1], num=3)\n",
    "C_grid\n",
    "gamma_grid"
   ]
  },
  {
   "cell_type": "code",
   "execution_count": 27,
   "metadata": {},
   "outputs": [
    {
     "name": "stdout",
     "output_type": "stream",
     "text": [
      "could not find the hypetuning models on disk, or you requested to hypertune the models in this run\n",
      "performing hypertuning\n",
      "begin hypertuning\n",
      "fitting model for C: 0.03125 and gamma: 3.0517578125e-05\n",
      "fitting complete.\n",
      "fitting model for C: 0.03125 and gamma: 4.0000152587890625\n",
      "fitting complete.\n",
      "fitting model for C: 0.03125 and gamma: 8.0\n",
      "fitting complete.\n",
      "fitting model for C: 16384.015625 and gamma: 3.0517578125e-05\n",
      "fitting complete.\n",
      "fitting model for C: 16384.015625 and gamma: 4.0000152587890625\n",
      "fitting complete.\n",
      "fitting model for C: 16384.015625 and gamma: 8.0\n",
      "fitting complete.\n",
      "fitting model for C: 32768.0 and gamma: 3.0517578125e-05\n",
      "fitting complete.\n",
      "fitting model for C: 32768.0 and gamma: 4.0000152587890625\n",
      "fitting complete.\n",
      "fitting model for C: 32768.0 and gamma: 8.0\n",
      "fitting complete.\n",
      "hypertuning complete in 4.52 minutes\n"
     ]
    }
   ],
   "source": [
    "# perform hypertuning. We will loop over all possible parameter value combinations, and train a model for each combination on the training set.\n",
    "# this will take a long while! (77 minutes for 100 models on my machine with 14 cores, 4.5 minutes for 9 models) This is because the code is not optimized (see below), SVC is not the fastest of models, and the disadvantage of grid search is that\n",
    "# it's exponentially expensive on the size of the parameter grid.\n",
    "\n",
    "# Note: if this takes too long, it's always an option to reduce the size of the hyperparameters space considered.\n",
    "\n",
    "def fit_svm_model(X_train, y_train, C, gamma):\n",
    "    # create the model instance with the required parameters\n",
    "    simple_SVC = SVC(gamma=gamma, C=C, random_state=1234)\n",
    "    # fit the model instance on X_train\n",
    "    simple_SVC.fit(X=X_train, y=y_train)\n",
    "    return simple_SVC\n",
    "\n",
    "# check if there are already hypertuned models. If yes, use them - unless the constant USE_STORED_SVC_HYPERTUNED_MODELS is set to true\n",
    "if os.path.exists('../dataset/hypertuning_models.pickle') and USE_STORED_SVC_HYPERTUNED_MODELS is True:\n",
    "    with open('../dataset/hypertuning_models.pickle', 'rb') as handle:\n",
    "        fitted_models = pickle.load(handle)\n",
    "else:\n",
    "    print('could not find the hypetuning models on disk, or you requested to hypertune the models in this run')\n",
    "    print('performing hypertuning')\n",
    "\n",
    "    # will hold the models fitted on train, for each hyperparameter combination\n",
    "    fitted_models = []\n",
    "\n",
    "    # train a model for each hyperparameter combo\n",
    "    print(\"begin hypertuning\")\n",
    "    start_time = datetime.datetime.now()\n",
    "    for C in C_grid:\n",
    "        for gamma in gamma_grid:\n",
    "            # fit a model with the given hyperparameter values.\n",
    "            # A new model will be fitted for each loop cycle\n",
    "            print(f\"fitting model for C: {C} and gamma: {gamma}\")\n",
    "            fitted_model = fit_svm_model(X_train, y_train, C, gamma)\n",
    "            print(f\"fitting complete.\")\n",
    "            # store the fitted model in the fitted_model list\n",
    "            fitted_models.append(fitted_model)\n",
    "\n",
    "    end_time = datetime.datetime.now()\n",
    "    print(f'hypertuning complete in {round((end_time - start_time).seconds/60, 2)} minutes')\n",
    "\n",
    "    # store the fitted models as a pickle so they can be analysed later with ease\n",
    "    with open('../dataset/hypertuning_models.pickle', 'wb') as handle:\n",
    "        pickle.dump(fitted_models, handle)"
   ]
  },
  {
   "cell_type": "code",
   "execution_count": 28,
   "metadata": {},
   "outputs": [
    {
     "data": {
      "text/plain": [
       "[SVC(C=0.03125, gamma=3.0517578125e-05, random_state=1234),\n",
       " SVC(C=0.03125, gamma=4.0000152587890625, random_state=1234),\n",
       " SVC(C=0.03125, gamma=8.0, random_state=1234),\n",
       " SVC(C=16384.015625, gamma=3.0517578125e-05, random_state=1234),\n",
       " SVC(C=16384.015625, gamma=4.0000152587890625, random_state=1234)]"
      ]
     },
     "execution_count": 28,
     "metadata": {},
     "output_type": "execute_result"
    }
   ],
   "source": [
    "# note that each model we have trained is the instance of an oop class!!\n",
    "fitted_models[0:5]"
   ]
  },
  {
   "cell_type": "markdown",
   "metadata": {},
   "source": [
    "Now that we have all the models fitted for each parameter combination, we can evaluate each fitted model on the validation dataset. The model which gives us the best f1 score on the validation dataset is the model with the best parameters combination."
   ]
  },
  {
   "cell_type": "code",
   "execution_count": 29,
   "metadata": {},
   "outputs": [],
   "source": [
    "# evaluate the F1 score of each model on validation, and find the best hyperparameters\n",
    "def calculate_f1_score(X, y, model):\n",
    "    y_hat = model.predict(X)\n",
    "    return f1_score(y, y_hat)\n",
    "\n",
    "f_scores = [calculate_f1_score(X_validation, y_validation, m) for m in fitted_models]"
   ]
  },
  {
   "cell_type": "code",
   "execution_count": 30,
   "metadata": {},
   "outputs": [
    {
     "data": {
      "text/plain": [
       "[0.0,\n",
       " 0.0,\n",
       " 0.0,\n",
       " 0.42598794373744137,\n",
       " 0.14814814814814814,\n",
       " 0.10227272727272728,\n",
       " 0.4289508632138115,\n",
       " 0.14814814814814814,\n",
       " 0.10227272727272728]"
      ]
     },
     "execution_count": 30,
     "metadata": {},
     "output_type": "execute_result"
    }
   ],
   "source": [
    "# take a peek at the top f1 scores\n",
    "f_scores[:20]"
   ]
  },
  {
   "cell_type": "code",
   "execution_count": 31,
   "metadata": {},
   "outputs": [],
   "source": [
    "# identify the model with the best F score value. This is the model which gives us the best parameters.\n",
    "max_f1_score = max(f_scores)\n",
    "best_model_index = f_scores.index(max_f1_score)\n",
    "best_model = fitted_models[best_model_index]"
   ]
  },
  {
   "cell_type": "code",
   "execution_count": 32,
   "metadata": {},
   "outputs": [
    {
     "name": "stdout",
     "output_type": "stream",
     "text": [
      "The best value of C found is 32768.0\n",
      "The best value of gamma is 3.0517578125e-05\n",
      "The best value of the f1 score on validation is 0.4289508632138115\n"
     ]
    }
   ],
   "source": [
    "print(f\"The best value of C found is {best_model.C}\")\n",
    "print(f\"The best value of gamma is {best_model.gamma}\")\n",
    "print(f\"The best value of the f1 score on validation is {max_f1_score}\")"
   ]
  },
  {
   "cell_type": "markdown",
   "metadata": {},
   "source": [
    "Now that we have identified the best parameters using the train and validation method, we can train a model with the best parameters on train + validation, and predict on test. This gives us the final out-of-sample performance of the SVC model."
   ]
  },
  {
   "cell_type": "code",
   "execution_count": 33,
   "metadata": {},
   "outputs": [
    {
     "data": {
      "text/html": [
       "<style>#sk-container-id-3 {color: black;}#sk-container-id-3 pre{padding: 0;}#sk-container-id-3 div.sk-toggleable {background-color: white;}#sk-container-id-3 label.sk-toggleable__label {cursor: pointer;display: block;width: 100%;margin-bottom: 0;padding: 0.3em;box-sizing: border-box;text-align: center;}#sk-container-id-3 label.sk-toggleable__label-arrow:before {content: \"▸\";float: left;margin-right: 0.25em;color: #696969;}#sk-container-id-3 label.sk-toggleable__label-arrow:hover:before {color: black;}#sk-container-id-3 div.sk-estimator:hover label.sk-toggleable__label-arrow:before {color: black;}#sk-container-id-3 div.sk-toggleable__content {max-height: 0;max-width: 0;overflow: hidden;text-align: left;background-color: #f0f8ff;}#sk-container-id-3 div.sk-toggleable__content pre {margin: 0.2em;color: black;border-radius: 0.25em;background-color: #f0f8ff;}#sk-container-id-3 input.sk-toggleable__control:checked~div.sk-toggleable__content {max-height: 200px;max-width: 100%;overflow: auto;}#sk-container-id-3 input.sk-toggleable__control:checked~label.sk-toggleable__label-arrow:before {content: \"▾\";}#sk-container-id-3 div.sk-estimator input.sk-toggleable__control:checked~label.sk-toggleable__label {background-color: #d4ebff;}#sk-container-id-3 div.sk-label input.sk-toggleable__control:checked~label.sk-toggleable__label {background-color: #d4ebff;}#sk-container-id-3 input.sk-hidden--visually {border: 0;clip: rect(1px 1px 1px 1px);clip: rect(1px, 1px, 1px, 1px);height: 1px;margin: -1px;overflow: hidden;padding: 0;position: absolute;width: 1px;}#sk-container-id-3 div.sk-estimator {font-family: monospace;background-color: #f0f8ff;border: 1px dotted black;border-radius: 0.25em;box-sizing: border-box;margin-bottom: 0.5em;}#sk-container-id-3 div.sk-estimator:hover {background-color: #d4ebff;}#sk-container-id-3 div.sk-parallel-item::after {content: \"\";width: 100%;border-bottom: 1px solid gray;flex-grow: 1;}#sk-container-id-3 div.sk-label:hover label.sk-toggleable__label {background-color: #d4ebff;}#sk-container-id-3 div.sk-serial::before {content: \"\";position: absolute;border-left: 1px solid gray;box-sizing: border-box;top: 0;bottom: 0;left: 50%;z-index: 0;}#sk-container-id-3 div.sk-serial {display: flex;flex-direction: column;align-items: center;background-color: white;padding-right: 0.2em;padding-left: 0.2em;position: relative;}#sk-container-id-3 div.sk-item {position: relative;z-index: 1;}#sk-container-id-3 div.sk-parallel {display: flex;align-items: stretch;justify-content: center;background-color: white;position: relative;}#sk-container-id-3 div.sk-item::before, #sk-container-id-3 div.sk-parallel-item::before {content: \"\";position: absolute;border-left: 1px solid gray;box-sizing: border-box;top: 0;bottom: 0;left: 50%;z-index: -1;}#sk-container-id-3 div.sk-parallel-item {display: flex;flex-direction: column;z-index: 1;position: relative;background-color: white;}#sk-container-id-3 div.sk-parallel-item:first-child::after {align-self: flex-end;width: 50%;}#sk-container-id-3 div.sk-parallel-item:last-child::after {align-self: flex-start;width: 50%;}#sk-container-id-3 div.sk-parallel-item:only-child::after {width: 0;}#sk-container-id-3 div.sk-dashed-wrapped {border: 1px dashed gray;margin: 0 0.4em 0.5em 0.4em;box-sizing: border-box;padding-bottom: 0.4em;background-color: white;}#sk-container-id-3 div.sk-label label {font-family: monospace;font-weight: bold;display: inline-block;line-height: 1.2em;}#sk-container-id-3 div.sk-label-container {text-align: center;}#sk-container-id-3 div.sk-container {/* jupyter's `normalize.less` sets `[hidden] { display: none; }` but bootstrap.min.css set `[hidden] { display: none !important; }` so we also need the `!important` here to be able to override the default hidden behavior on the sphinx rendered scikit-learn.org. See: https://github.com/scikit-learn/scikit-learn/issues/21755 */display: inline-block !important;position: relative;}#sk-container-id-3 div.sk-text-repr-fallback {display: none;}</style><div id=\"sk-container-id-3\" class=\"sk-top-container\"><div class=\"sk-text-repr-fallback\"><pre>SVC(C=32768.0, gamma=3.0517578125e-05, random_state=1234)</pre><b>In a Jupyter environment, please rerun this cell to show the HTML representation or trust the notebook. <br />On GitHub, the HTML representation is unable to render, please try loading this page with nbviewer.org.</b></div><div class=\"sk-container\" hidden><div class=\"sk-item\"><div class=\"sk-estimator sk-toggleable\"><input class=\"sk-toggleable__control sk-hidden--visually\" id=\"sk-estimator-id-3\" type=\"checkbox\" checked><label for=\"sk-estimator-id-3\" class=\"sk-toggleable__label sk-toggleable__label-arrow\">SVC</label><div class=\"sk-toggleable__content\"><pre>SVC(C=32768.0, gamma=3.0517578125e-05, random_state=1234)</pre></div></div></div></div></div>"
      ],
      "text/plain": [
       "SVC(C=32768.0, gamma=3.0517578125e-05, random_state=1234)"
      ]
     },
     "execution_count": 33,
     "metadata": {},
     "output_type": "execute_result"
    }
   ],
   "source": [
    "selected_model = SVC(gamma = best_model.gamma, C = best_model.C, random_state=1234)\n",
    "selected_model.fit(X_train_validation, y_train_validation)"
   ]
  },
  {
   "cell_type": "code",
   "execution_count": 34,
   "metadata": {},
   "outputs": [
    {
     "data": {
      "text/plain": [
       "0.411764705882353"
      ]
     },
     "execution_count": 34,
     "metadata": {},
     "output_type": "execute_result"
    }
   ],
   "source": [
    "# now predict on test with the fitted model to get the final performance measure\n",
    "calculate_f1_score(X_test, y_test, selected_model)"
   ]
  },
  {
   "cell_type": "markdown",
   "metadata": {},
   "source": [
    "only ~0.40/0.41 of F1 score. Boo! Not great at all: we didn't manage to beat the default SVC model tested above, which had f1 score: 0.45 and was trained with the default parameter values.\n",
    "\n",
    "Generally speaking, hypertuning often helps improving the performance of the model, but not always. Some further ideas to see if we can improve the SVM model:\n",
    "- refine the grid around the best parameters found above and try more parameter values. Perhaps around the current best parameters found there are better options\n",
    "- move to random or Bayesian search rather than grid search\n",
    "- apply the smote technique to generate more examples of the minority class and train the model on the inflated data"
   ]
  },
  {
   "cell_type": "markdown",
   "metadata": {},
   "source": [
    "### Hypertuning the SVC model with sklearn GridSearch"
   ]
  },
  {
   "cell_type": "markdown",
   "metadata": {},
   "source": [
    "The above code works for demonstration purposes, however it is quite slow ion general. \n",
    "The main way to make it faster would be to parallelize the fitting of each model, so that rather than fitting one model at a time, multiple models are fitted concurrently.\n",
    "\n",
    "This can be coded manually, for instance using the joblib library: https://joblib.readthedocs.io/en/latest/. This library is also useful in general, whenever you have an embarrasingly parellel computation that can be parallelized with a parallel for loop."
   ]
  },
  {
   "cell_type": "markdown",
   "metadata": {},
   "source": [
    "<div>\n",
    "<img src=\"img/parallelism.gif\" width=\"500\">\n",
    "</div>"
   ]
  },
  {
   "cell_type": "markdown",
   "metadata": {},
   "source": [
    "However, for the specific case of validation and crossvalidation, sklearn provides us with a GridSearchCV class that can be used to conduct train-validation grid search, and cross-validation grid search, with built-in parallelism (using joblib under the hood)."
   ]
  },
  {
   "cell_type": "code",
   "execution_count": 19,
   "metadata": {},
   "outputs": [],
   "source": [
    "# use PredefinedSplit to specify which observations are train and which are validation\n",
    "fold_index = PredefinedSplit([-1]* X_train.shape[0] + [0] * X_validation.shape[0])\n",
    "\n",
    "# define the parameter grid as a dictionary of lists, where the keys are the names of the parameters\n",
    "param_grid = {'gamma': gamma_grid.tolist(), 'C': C_grid.tolist()}"
   ]
  },
  {
   "cell_type": "code",
   "execution_count": 20,
   "metadata": {},
   "outputs": [
    {
     "data": {
      "text/html": [
       "<style>#sk-container-id-1 {color: black;}#sk-container-id-1 pre{padding: 0;}#sk-container-id-1 div.sk-toggleable {background-color: white;}#sk-container-id-1 label.sk-toggleable__label {cursor: pointer;display: block;width: 100%;margin-bottom: 0;padding: 0.3em;box-sizing: border-box;text-align: center;}#sk-container-id-1 label.sk-toggleable__label-arrow:before {content: \"▸\";float: left;margin-right: 0.25em;color: #696969;}#sk-container-id-1 label.sk-toggleable__label-arrow:hover:before {color: black;}#sk-container-id-1 div.sk-estimator:hover label.sk-toggleable__label-arrow:before {color: black;}#sk-container-id-1 div.sk-toggleable__content {max-height: 0;max-width: 0;overflow: hidden;text-align: left;background-color: #f0f8ff;}#sk-container-id-1 div.sk-toggleable__content pre {margin: 0.2em;color: black;border-radius: 0.25em;background-color: #f0f8ff;}#sk-container-id-1 input.sk-toggleable__control:checked~div.sk-toggleable__content {max-height: 200px;max-width: 100%;overflow: auto;}#sk-container-id-1 input.sk-toggleable__control:checked~label.sk-toggleable__label-arrow:before {content: \"▾\";}#sk-container-id-1 div.sk-estimator input.sk-toggleable__control:checked~label.sk-toggleable__label {background-color: #d4ebff;}#sk-container-id-1 div.sk-label input.sk-toggleable__control:checked~label.sk-toggleable__label {background-color: #d4ebff;}#sk-container-id-1 input.sk-hidden--visually {border: 0;clip: rect(1px 1px 1px 1px);clip: rect(1px, 1px, 1px, 1px);height: 1px;margin: -1px;overflow: hidden;padding: 0;position: absolute;width: 1px;}#sk-container-id-1 div.sk-estimator {font-family: monospace;background-color: #f0f8ff;border: 1px dotted black;border-radius: 0.25em;box-sizing: border-box;margin-bottom: 0.5em;}#sk-container-id-1 div.sk-estimator:hover {background-color: #d4ebff;}#sk-container-id-1 div.sk-parallel-item::after {content: \"\";width: 100%;border-bottom: 1px solid gray;flex-grow: 1;}#sk-container-id-1 div.sk-label:hover label.sk-toggleable__label {background-color: #d4ebff;}#sk-container-id-1 div.sk-serial::before {content: \"\";position: absolute;border-left: 1px solid gray;box-sizing: border-box;top: 0;bottom: 0;left: 50%;z-index: 0;}#sk-container-id-1 div.sk-serial {display: flex;flex-direction: column;align-items: center;background-color: white;padding-right: 0.2em;padding-left: 0.2em;position: relative;}#sk-container-id-1 div.sk-item {position: relative;z-index: 1;}#sk-container-id-1 div.sk-parallel {display: flex;align-items: stretch;justify-content: center;background-color: white;position: relative;}#sk-container-id-1 div.sk-item::before, #sk-container-id-1 div.sk-parallel-item::before {content: \"\";position: absolute;border-left: 1px solid gray;box-sizing: border-box;top: 0;bottom: 0;left: 50%;z-index: -1;}#sk-container-id-1 div.sk-parallel-item {display: flex;flex-direction: column;z-index: 1;position: relative;background-color: white;}#sk-container-id-1 div.sk-parallel-item:first-child::after {align-self: flex-end;width: 50%;}#sk-container-id-1 div.sk-parallel-item:last-child::after {align-self: flex-start;width: 50%;}#sk-container-id-1 div.sk-parallel-item:only-child::after {width: 0;}#sk-container-id-1 div.sk-dashed-wrapped {border: 1px dashed gray;margin: 0 0.4em 0.5em 0.4em;box-sizing: border-box;padding-bottom: 0.4em;background-color: white;}#sk-container-id-1 div.sk-label label {font-family: monospace;font-weight: bold;display: inline-block;line-height: 1.2em;}#sk-container-id-1 div.sk-label-container {text-align: center;}#sk-container-id-1 div.sk-container {/* jupyter's `normalize.less` sets `[hidden] { display: none; }` but bootstrap.min.css set `[hidden] { display: none !important; }` so we also need the `!important` here to be able to override the default hidden behavior on the sphinx rendered scikit-learn.org. See: https://github.com/scikit-learn/scikit-learn/issues/21755 */display: inline-block !important;position: relative;}#sk-container-id-1 div.sk-text-repr-fallback {display: none;}</style><div id=\"sk-container-id-1\" class=\"sk-top-container\"><div class=\"sk-text-repr-fallback\"><pre>GridSearchCV(cv=PredefinedSplit(test_fold=array([-1, -1, ...,  0,  0])),\n",
       "             estimator=SVC(random_state=1234), n_jobs=-1,\n",
       "             param_grid={&#x27;C&#x27;: [0.03125, 16384.015625, 32768.0],\n",
       "                         &#x27;gamma&#x27;: [3.0517578125e-05, 4.0000152587890625, 8.0]},\n",
       "             scoring=&#x27;f1&#x27;)</pre><b>In a Jupyter environment, please rerun this cell to show the HTML representation or trust the notebook. <br />On GitHub, the HTML representation is unable to render, please try loading this page with nbviewer.org.</b></div><div class=\"sk-container\" hidden><div class=\"sk-item sk-dashed-wrapped\"><div class=\"sk-label-container\"><div class=\"sk-label sk-toggleable\"><input class=\"sk-toggleable__control sk-hidden--visually\" id=\"sk-estimator-id-1\" type=\"checkbox\" ><label for=\"sk-estimator-id-1\" class=\"sk-toggleable__label sk-toggleable__label-arrow\">GridSearchCV</label><div class=\"sk-toggleable__content\"><pre>GridSearchCV(cv=PredefinedSplit(test_fold=array([-1, -1, ...,  0,  0])),\n",
       "             estimator=SVC(random_state=1234), n_jobs=-1,\n",
       "             param_grid={&#x27;C&#x27;: [0.03125, 16384.015625, 32768.0],\n",
       "                         &#x27;gamma&#x27;: [3.0517578125e-05, 4.0000152587890625, 8.0]},\n",
       "             scoring=&#x27;f1&#x27;)</pre></div></div></div><div class=\"sk-parallel\"><div class=\"sk-parallel-item\"><div class=\"sk-item\"><div class=\"sk-label-container\"><div class=\"sk-label sk-toggleable\"><input class=\"sk-toggleable__control sk-hidden--visually\" id=\"sk-estimator-id-2\" type=\"checkbox\" ><label for=\"sk-estimator-id-2\" class=\"sk-toggleable__label sk-toggleable__label-arrow\">estimator: SVC</label><div class=\"sk-toggleable__content\"><pre>SVC(random_state=1234)</pre></div></div></div><div class=\"sk-serial\"><div class=\"sk-item\"><div class=\"sk-estimator sk-toggleable\"><input class=\"sk-toggleable__control sk-hidden--visually\" id=\"sk-estimator-id-3\" type=\"checkbox\" ><label for=\"sk-estimator-id-3\" class=\"sk-toggleable__label sk-toggleable__label-arrow\">SVC</label><div class=\"sk-toggleable__content\"><pre>SVC(random_state=1234)</pre></div></div></div></div></div></div></div></div></div></div>"
      ],
      "text/plain": [
       "GridSearchCV(cv=PredefinedSplit(test_fold=array([-1, -1, ...,  0,  0])),\n",
       "             estimator=SVC(random_state=1234), n_jobs=-1,\n",
       "             param_grid={'C': [0.03125, 16384.015625, 32768.0],\n",
       "                         'gamma': [3.0517578125e-05, 4.0000152587890625, 8.0]},\n",
       "             scoring='f1')"
      ]
     },
     "execution_count": 20,
     "metadata": {},
     "output_type": "execute_result"
    },
    {
     "name": "stdout",
     "output_type": "stream",
     "text": [
      "hypertuning with sklearn grid search complete in 2.02 minutes\n"
     ]
    }
   ],
   "source": [
    "if  os.path.exists('../dataset/sklearn_grid_search.pickle') and USE_STORED_SVC_SKLEARNED_HYPERTUNED_MODELS is True:\n",
    "    with open('../dataset/sklearn_grid_search.pickle', 'rb') as handle:\n",
    "        sklearn_grid_search = pickle.load(handle)\n",
    "else:\n",
    "    # define the grid search object. Note that it requires an instance of an estimator class, a scoring function (to choose the best model parameters; here we use f1, as above),\n",
    "    # and a cv specification, which can be one of various things \n",
    "    # (see https://scikit-learn.org/stable/modules/generated/sklearn.model_selection.GridSearchCV.html#sklearn.model_selection.GridSearchCV.fit # for the documentation)\n",
    "    # here we pass the fold_index specified above\n",
    "    sklearn_grid_search = GridSearchCV(SVC(random_state=1234), param_grid=param_grid, n_jobs=-1, cv=fold_index, scoring='f1')\n",
    "\n",
    "    # now perform the grid search on train+validation. Note that the fold_index above encodes which observations are train and which are validation\n",
    "    start_time = datetime.datetime.now()\n",
    "    sklearn_grid_search.fit(X=X_train_validation, y=y_train_validation)\n",
    "    end_time = datetime.datetime.now()\n",
    "    print(f'hypertuning with sklearn grid search complete in {round((end_time - start_time).seconds/60, 2)} minutes')\n",
    "\n",
    "    # we can serialize the grid search object to disk, so we can reuse it later\n",
    "    # store the fitted models as a pickle so they can be analysed later\n",
    "    with open('../dataset/sklearn_grid_search.pickle', 'wb') as handle:\n",
    "        pickle.dump(sklearn_grid_search, handle)"
   ]
  },
  {
   "cell_type": "markdown",
   "metadata": {},
   "source": [
    "On this problem sklearn gridsearch is not that much faster than the above manual approach (2 mins vs 4.5 min, still almost half). However, for more computing intensive hypertuning runs, parallelism can help substantially in speeding up the calculations.\n",
    "When we have a grid search sklearn object, we can use it directly to predict on the test set. It will then use the best model it has found (trained on training + validation set) to predict on the test set."
   ]
  },
  {
   "cell_type": "code",
   "execution_count": 22,
   "metadata": {},
   "outputs": [
    {
     "data": {
      "text/plain": [
       "0.41071428571428575"
      ]
     },
     "execution_count": 22,
     "metadata": {},
     "output_type": "execute_result"
    }
   ],
   "source": [
    "f1_score(y_test, sklearn_grid_search.predict(X_test))"
   ]
  },
  {
   "cell_type": "markdown",
   "metadata": {},
   "source": [
    "We get a very similar result as with the manual step, as expected."
   ]
  },
  {
   "cell_type": "markdown",
   "metadata": {},
   "source": [
    "## Modeling with KNN"
   ]
  },
  {
   "cell_type": "markdown",
   "metadata": {},
   "source": [
    "Now that we have seen the general pattern of hypertuning with train & validation, we can apply the same technique to hypertune any model which has hyperparameters to be hypertuned: knn, random forests, etc.\n",
    "Now we try to model the classification problem with KNN and simple train/validation hypertuning of the metric and k hyperparameters, like in the Iris dataset."
   ]
  },
  {
   "cell_type": "code",
   "execution_count": 23,
   "metadata": {},
   "outputs": [
    {
     "data": {
      "text/plain": [
       "[(1, 'minkowski'),\n",
       " (1, 'cosine'),\n",
       " (2, 'minkowski'),\n",
       " (2, 'cosine'),\n",
       " (3, 'minkowski'),\n",
       " (3, 'cosine'),\n",
       " (4, 'minkowski'),\n",
       " (4, 'cosine'),\n",
       " (5, 'minkowski'),\n",
       " (5, 'cosine'),\n",
       " (6, 'minkowski'),\n",
       " (6, 'cosine'),\n",
       " (7, 'minkowski'),\n",
       " (7, 'cosine'),\n",
       " (8, 'minkowski'),\n",
       " (8, 'cosine'),\n",
       " (9, 'minkowski'),\n",
       " (9, 'cosine'),\n",
       " (10, 'minkowski'),\n",
       " (10, 'cosine'),\n",
       " (11, 'minkowski'),\n",
       " (11, 'cosine'),\n",
       " (12, 'minkowski'),\n",
       " (12, 'cosine'),\n",
       " (13, 'minkowski'),\n",
       " (13, 'cosine'),\n",
       " (14, 'minkowski'),\n",
       " (14, 'cosine'),\n",
       " (15, 'minkowski'),\n",
       " (15, 'cosine'),\n",
       " (16, 'minkowski'),\n",
       " (16, 'cosine'),\n",
       " (17, 'minkowski'),\n",
       " (17, 'cosine'),\n",
       " (18, 'minkowski'),\n",
       " (18, 'cosine'),\n",
       " (19, 'minkowski'),\n",
       " (19, 'cosine'),\n",
       " (20, 'minkowski'),\n",
       " (20, 'cosine'),\n",
       " (21, 'minkowski'),\n",
       " (21, 'cosine'),\n",
       " (22, 'minkowski'),\n",
       " (22, 'cosine'),\n",
       " (23, 'minkowski'),\n",
       " (23, 'cosine'),\n",
       " (24, 'minkowski'),\n",
       " (24, 'cosine'),\n",
       " (25, 'minkowski'),\n",
       " (25, 'cosine'),\n",
       " (26, 'minkowski'),\n",
       " (26, 'cosine'),\n",
       " (27, 'minkowski'),\n",
       " (27, 'cosine'),\n",
       " (28, 'minkowski'),\n",
       " (28, 'cosine'),\n",
       " (29, 'minkowski'),\n",
       " (29, 'cosine'),\n",
       " (30, 'minkowski'),\n",
       " (30, 'cosine'),\n",
       " (31, 'minkowski'),\n",
       " (31, 'cosine'),\n",
       " (32, 'minkowski'),\n",
       " (32, 'cosine'),\n",
       " (33, 'minkowski'),\n",
       " (33, 'cosine'),\n",
       " (34, 'minkowski'),\n",
       " (34, 'cosine'),\n",
       " (35, 'minkowski'),\n",
       " (35, 'cosine'),\n",
       " (36, 'minkowski'),\n",
       " (36, 'cosine'),\n",
       " (37, 'minkowski'),\n",
       " (37, 'cosine'),\n",
       " (38, 'minkowski'),\n",
       " (38, 'cosine'),\n",
       " (39, 'minkowski'),\n",
       " (39, 'cosine')]"
      ]
     },
     "execution_count": 23,
     "metadata": {},
     "output_type": "execute_result"
    }
   ],
   "source": [
    "# k grid values \n",
    "k_grid = [x for x in range(1, 40)]\n",
    "# distance metric values\n",
    "distances_grid = [\"minkowski\", \"cosine\"]\n",
    "\n",
    "# create all combinations of hyperparameters\n",
    "hyperparameters_combos = []\n",
    "for k in k_grid:\n",
    "    for d in distances_grid:\n",
    "        hyperparameters_combos.append( (k, d) )\n",
    "hyperparameters_combos"
   ]
  },
  {
   "cell_type": "code",
   "execution_count": 24,
   "metadata": {},
   "outputs": [],
   "source": [
    "hyperparameter_tuning_results = {}\n",
    "\n",
    "for combo in hyperparameters_combos:\n",
    "    knn = KNeighborsClassifier(n_neighbors=combo[0], metric=combo[1])\n",
    "    knn = knn.fit(X_train, y_train)\n",
    "    y_hat_validation = knn.predict(X_validation)\n",
    "    score = f1_score(y_validation, y_hat_validation)\n",
    "    hyperparameter_tuning_results[combo] = {\n",
    "        \"score\": score\n",
    "    }"
   ]
  },
  {
   "cell_type": "code",
   "execution_count": 25,
   "metadata": {},
   "outputs": [
    {
     "name": "stderr",
     "output_type": "stream",
     "text": [
      "/home/riccardo/miniconda3/envs/teaching/lib/python3.10/site-packages/plotnine/utils.py:289: FutureWarning: is_categorical_dtype is deprecated and will be removed in a future version. Use isinstance(dtype, CategoricalDtype) instead\n",
      "/home/riccardo/miniconda3/envs/teaching/lib/python3.10/site-packages/plotnine/utils.py:596: FutureWarning: The default of observed=False is deprecated and will be changed to True in a future version of pandas. Pass observed=False to retain current behavior or observed=True to adopt the future default and silence this warning.\n",
      "/home/riccardo/miniconda3/envs/teaching/lib/python3.10/site-packages/plotnine/geoms/geom.py:289: FutureWarning: The default of observed=False is deprecated and will be changed to True in a future version of pandas. Pass observed=False to retain current behavior or observed=True to adopt the future default and silence this warning.\n"
     ]
    },
    {
     "data": {
      "image/png": "[encoded data removed]",
      "text/plain": [
       "<Figure size 640x480 with 2 Axes>"
      ]
     },
     "metadata": {
      "image/png": {
       "height": 480,
       "width": 640
      }
     },
     "output_type": "display_data"
    },
    {
     "data": {
      "text/plain": [
       "<Figure Size: (640 x 480)>"
      ]
     },
     "execution_count": 25,
     "metadata": {},
     "output_type": "execute_result"
    }
   ],
   "source": [
    "scores = []\n",
    "for combo in hyperparameter_tuning_results:\n",
    "    scores.append( (combo[0], combo[1], hyperparameter_tuning_results[combo][\"score\"]) )\n",
    "scores_df = pd.DataFrame(scores, columns=[\"k\", \"metric\", \"score\"])\n",
    "\n",
    "(\n",
    "    ggplot(scores_df, aes(x=\"k\", y=\"score\")) +\n",
    "    geom_point() +\n",
    "    facet_wrap(\"metric\") +\n",
    "    ggtitle(\"F1 score against k value\") +\n",
    "    ylab(\"Validation f1 score\")\n",
    ")"
   ]
  },
  {
   "cell_type": "code",
   "execution_count": 26,
   "metadata": {},
   "outputs": [
    {
     "data": {
      "text/plain": [
       "0.46900584795321637"
      ]
     },
     "execution_count": 26,
     "metadata": {},
     "output_type": "execute_result"
    },
    {
     "data": {
      "text/plain": [
       "(13, 'cosine')"
      ]
     },
     "execution_count": 26,
     "metadata": {},
     "output_type": "execute_result"
    }
   ],
   "source": [
    "best_combo = None\n",
    "best_score = 0\n",
    "for combo in hyperparameter_tuning_results:\n",
    "    score = hyperparameter_tuning_results[combo]['score']\n",
    "    if score >= best_score:\n",
    "        best_score = score\n",
    "        best_combo = combo\n",
    "best_score\n",
    "best_combo"
   ]
  },
  {
   "cell_type": "code",
   "execution_count": 27,
   "metadata": {},
   "outputs": [
    {
     "data": {
      "text/plain": [
       "0.43385214007782097"
      ]
     },
     "execution_count": 27,
     "metadata": {},
     "output_type": "execute_result"
    }
   ],
   "source": [
    "# final model\n",
    "final_knn_model = KNeighborsClassifier(n_neighbors = best_combo[0], metric = best_combo[1])\n",
    "_ = final_knn_model.fit(X_train_validation, y_train_validation)\n",
    "y_hat_test = final_knn_model.predict(X_test)\n",
    "f1_score(y_test, y_hat_test)"
   ]
  },
  {
   "cell_type": "markdown",
   "metadata": {},
   "source": [
    "Now we try hyperparameter tuning, but with sklearn CV grid search: https://scikit-learn.org/stable/modules/generated/sklearn.model_selection.GridSearchCV.html"
   ]
  },
  {
   "cell_type": "code",
   "execution_count": 28,
   "metadata": {},
   "outputs": [
    {
     "data": {
      "text/html": [
       "<style>#sk-container-id-2 {color: black;}#sk-container-id-2 pre{padding: 0;}#sk-container-id-2 div.sk-toggleable {background-color: white;}#sk-container-id-2 label.sk-toggleable__label {cursor: pointer;display: block;width: 100%;margin-bottom: 0;padding: 0.3em;box-sizing: border-box;text-align: center;}#sk-container-id-2 label.sk-toggleable__label-arrow:before {content: \"▸\";float: left;margin-right: 0.25em;color: #696969;}#sk-container-id-2 label.sk-toggleable__label-arrow:hover:before {color: black;}#sk-container-id-2 div.sk-estimator:hover label.sk-toggleable__label-arrow:before {color: black;}#sk-container-id-2 div.sk-toggleable__content {max-height: 0;max-width: 0;overflow: hidden;text-align: left;background-color: #f0f8ff;}#sk-container-id-2 div.sk-toggleable__content pre {margin: 0.2em;color: black;border-radius: 0.25em;background-color: #f0f8ff;}#sk-container-id-2 input.sk-toggleable__control:checked~div.sk-toggleable__content {max-height: 200px;max-width: 100%;overflow: auto;}#sk-container-id-2 input.sk-toggleable__control:checked~label.sk-toggleable__label-arrow:before {content: \"▾\";}#sk-container-id-2 div.sk-estimator input.sk-toggleable__control:checked~label.sk-toggleable__label {background-color: #d4ebff;}#sk-container-id-2 div.sk-label input.sk-toggleable__control:checked~label.sk-toggleable__label {background-color: #d4ebff;}#sk-container-id-2 input.sk-hidden--visually {border: 0;clip: rect(1px 1px 1px 1px);clip: rect(1px, 1px, 1px, 1px);height: 1px;margin: -1px;overflow: hidden;padding: 0;position: absolute;width: 1px;}#sk-container-id-2 div.sk-estimator {font-family: monospace;background-color: #f0f8ff;border: 1px dotted black;border-radius: 0.25em;box-sizing: border-box;margin-bottom: 0.5em;}#sk-container-id-2 div.sk-estimator:hover {background-color: #d4ebff;}#sk-container-id-2 div.sk-parallel-item::after {content: \"\";width: 100%;border-bottom: 1px solid gray;flex-grow: 1;}#sk-container-id-2 div.sk-label:hover label.sk-toggleable__label {background-color: #d4ebff;}#sk-container-id-2 div.sk-serial::before {content: \"\";position: absolute;border-left: 1px solid gray;box-sizing: border-box;top: 0;bottom: 0;left: 50%;z-index: 0;}#sk-container-id-2 div.sk-serial {display: flex;flex-direction: column;align-items: center;background-color: white;padding-right: 0.2em;padding-left: 0.2em;position: relative;}#sk-container-id-2 div.sk-item {position: relative;z-index: 1;}#sk-container-id-2 div.sk-parallel {display: flex;align-items: stretch;justify-content: center;background-color: white;position: relative;}#sk-container-id-2 div.sk-item::before, #sk-container-id-2 div.sk-parallel-item::before {content: \"\";position: absolute;border-left: 1px solid gray;box-sizing: border-box;top: 0;bottom: 0;left: 50%;z-index: -1;}#sk-container-id-2 div.sk-parallel-item {display: flex;flex-direction: column;z-index: 1;position: relative;background-color: white;}#sk-container-id-2 div.sk-parallel-item:first-child::after {align-self: flex-end;width: 50%;}#sk-container-id-2 div.sk-parallel-item:last-child::after {align-self: flex-start;width: 50%;}#sk-container-id-2 div.sk-parallel-item:only-child::after {width: 0;}#sk-container-id-2 div.sk-dashed-wrapped {border: 1px dashed gray;margin: 0 0.4em 0.5em 0.4em;box-sizing: border-box;padding-bottom: 0.4em;background-color: white;}#sk-container-id-2 div.sk-label label {font-family: monospace;font-weight: bold;display: inline-block;line-height: 1.2em;}#sk-container-id-2 div.sk-label-container {text-align: center;}#sk-container-id-2 div.sk-container {/* jupyter's `normalize.less` sets `[hidden] { display: none; }` but bootstrap.min.css set `[hidden] { display: none !important; }` so we also need the `!important` here to be able to override the default hidden behavior on the sphinx rendered scikit-learn.org. See: https://github.com/scikit-learn/scikit-learn/issues/21755 */display: inline-block !important;position: relative;}#sk-container-id-2 div.sk-text-repr-fallback {display: none;}</style><div id=\"sk-container-id-2\" class=\"sk-top-container\"><div class=\"sk-text-repr-fallback\"><pre>GridSearchCV(cv=PredefinedSplit(test_fold=array([-1, -1, ...,  0,  0])),\n",
       "             estimator=KNeighborsClassifier(), n_jobs=-1,\n",
       "             param_grid={&#x27;metric&#x27;: [&#x27;minkowski&#x27;, &#x27;cosine&#x27;],\n",
       "                         &#x27;n_neighbors&#x27;: [1, 2, 3, 4, 5, 6, 7, 8, 9, 10, 11, 12,\n",
       "                                         13, 14, 15, 16, 17, 18, 19, 20, 21, 22,\n",
       "                                         23, 24, 25, 26, 27, 28, 29, 30, ...]},\n",
       "             scoring=&#x27;f1&#x27;)</pre><b>In a Jupyter environment, please rerun this cell to show the HTML representation or trust the notebook. <br />On GitHub, the HTML representation is unable to render, please try loading this page with nbviewer.org.</b></div><div class=\"sk-container\" hidden><div class=\"sk-item sk-dashed-wrapped\"><div class=\"sk-label-container\"><div class=\"sk-label sk-toggleable\"><input class=\"sk-toggleable__control sk-hidden--visually\" id=\"sk-estimator-id-4\" type=\"checkbox\" ><label for=\"sk-estimator-id-4\" class=\"sk-toggleable__label sk-toggleable__label-arrow\">GridSearchCV</label><div class=\"sk-toggleable__content\"><pre>GridSearchCV(cv=PredefinedSplit(test_fold=array([-1, -1, ...,  0,  0])),\n",
       "             estimator=KNeighborsClassifier(), n_jobs=-1,\n",
       "             param_grid={&#x27;metric&#x27;: [&#x27;minkowski&#x27;, &#x27;cosine&#x27;],\n",
       "                         &#x27;n_neighbors&#x27;: [1, 2, 3, 4, 5, 6, 7, 8, 9, 10, 11, 12,\n",
       "                                         13, 14, 15, 16, 17, 18, 19, 20, 21, 22,\n",
       "                                         23, 24, 25, 26, 27, 28, 29, 30, ...]},\n",
       "             scoring=&#x27;f1&#x27;)</pre></div></div></div><div class=\"sk-parallel\"><div class=\"sk-parallel-item\"><div class=\"sk-item\"><div class=\"sk-label-container\"><div class=\"sk-label sk-toggleable\"><input class=\"sk-toggleable__control sk-hidden--visually\" id=\"sk-estimator-id-5\" type=\"checkbox\" ><label for=\"sk-estimator-id-5\" class=\"sk-toggleable__label sk-toggleable__label-arrow\">estimator: KNeighborsClassifier</label><div class=\"sk-toggleable__content\"><pre>KNeighborsClassifier()</pre></div></div></div><div class=\"sk-serial\"><div class=\"sk-item\"><div class=\"sk-estimator sk-toggleable\"><input class=\"sk-toggleable__control sk-hidden--visually\" id=\"sk-estimator-id-6\" type=\"checkbox\" ><label for=\"sk-estimator-id-6\" class=\"sk-toggleable__label sk-toggleable__label-arrow\">KNeighborsClassifier</label><div class=\"sk-toggleable__content\"><pre>KNeighborsClassifier()</pre></div></div></div></div></div></div></div></div></div></div>"
      ],
      "text/plain": [
       "GridSearchCV(cv=PredefinedSplit(test_fold=array([-1, -1, ...,  0,  0])),\n",
       "             estimator=KNeighborsClassifier(), n_jobs=-1,\n",
       "             param_grid={'metric': ['minkowski', 'cosine'],\n",
       "                         'n_neighbors': [1, 2, 3, 4, 5, 6, 7, 8, 9, 10, 11, 12,\n",
       "                                         13, 14, 15, 16, 17, 18, 19, 20, 21, 22,\n",
       "                                         23, 24, 25, 26, 27, 28, 29, 30, ...]},\n",
       "             scoring='f1')"
      ]
     },
     "execution_count": 28,
     "metadata": {},
     "output_type": "execute_result"
    },
    {
     "name": "stdout",
     "output_type": "stream",
     "text": [
      "hypertuning with sklearn grid search complete in 2.3 minutes\n"
     ]
    }
   ],
   "source": [
    "# use PredefinedSplit to specify which observations are train and which are validation\n",
    "fold_index = PredefinedSplit([-1]* X_train.shape[0] + [0] * X_validation.shape[0])\n",
    "\n",
    "# define the parameter grid as a dictionary of lists, where the keys are the names of the parameters\n",
    "param_grid = {'n_neighbors': k_grid, 'metric': distances_grid}\n",
    "\n",
    "sklearn_grid_search = GridSearchCV(KNeighborsClassifier(), param_grid=param_grid, n_jobs=-1, cv=fold_index, scoring='f1')\n",
    "\n",
    "# # now perform the grid search on train+validation. Note that the fold_index above encodes which observations are train and which are validation\n",
    "start_time = datetime.datetime.now()\n",
    "sklearn_grid_search.fit(X=X_train_validation, y=y_train_validation)\n",
    "end_time = datetime.datetime.now()\n",
    "print(f'hypertuning with sklearn grid search complete in {round((end_time - start_time).seconds/60, 2)} minutes')"
   ]
  },
  {
   "cell_type": "code",
   "execution_count": 29,
   "metadata": {},
   "outputs": [
    {
     "data": {
      "text/html": [
       "<style>#sk-container-id-3 {color: black;}#sk-container-id-3 pre{padding: 0;}#sk-container-id-3 div.sk-toggleable {background-color: white;}#sk-container-id-3 label.sk-toggleable__label {cursor: pointer;display: block;width: 100%;margin-bottom: 0;padding: 0.3em;box-sizing: border-box;text-align: center;}#sk-container-id-3 label.sk-toggleable__label-arrow:before {content: \"▸\";float: left;margin-right: 0.25em;color: #696969;}#sk-container-id-3 label.sk-toggleable__label-arrow:hover:before {color: black;}#sk-container-id-3 div.sk-estimator:hover label.sk-toggleable__label-arrow:before {color: black;}#sk-container-id-3 div.sk-toggleable__content {max-height: 0;max-width: 0;overflow: hidden;text-align: left;background-color: #f0f8ff;}#sk-container-id-3 div.sk-toggleable__content pre {margin: 0.2em;color: black;border-radius: 0.25em;background-color: #f0f8ff;}#sk-container-id-3 input.sk-toggleable__control:checked~div.sk-toggleable__content {max-height: 200px;max-width: 100%;overflow: auto;}#sk-container-id-3 input.sk-toggleable__control:checked~label.sk-toggleable__label-arrow:before {content: \"▾\";}#sk-container-id-3 div.sk-estimator input.sk-toggleable__control:checked~label.sk-toggleable__label {background-color: #d4ebff;}#sk-container-id-3 div.sk-label input.sk-toggleable__control:checked~label.sk-toggleable__label {background-color: #d4ebff;}#sk-container-id-3 input.sk-hidden--visually {border: 0;clip: rect(1px 1px 1px 1px);clip: rect(1px, 1px, 1px, 1px);height: 1px;margin: -1px;overflow: hidden;padding: 0;position: absolute;width: 1px;}#sk-container-id-3 div.sk-estimator {font-family: monospace;background-color: #f0f8ff;border: 1px dotted black;border-radius: 0.25em;box-sizing: border-box;margin-bottom: 0.5em;}#sk-container-id-3 div.sk-estimator:hover {background-color: #d4ebff;}#sk-container-id-3 div.sk-parallel-item::after {content: \"\";width: 100%;border-bottom: 1px solid gray;flex-grow: 1;}#sk-container-id-3 div.sk-label:hover label.sk-toggleable__label {background-color: #d4ebff;}#sk-container-id-3 div.sk-serial::before {content: \"\";position: absolute;border-left: 1px solid gray;box-sizing: border-box;top: 0;bottom: 0;left: 50%;z-index: 0;}#sk-container-id-3 div.sk-serial {display: flex;flex-direction: column;align-items: center;background-color: white;padding-right: 0.2em;padding-left: 0.2em;position: relative;}#sk-container-id-3 div.sk-item {position: relative;z-index: 1;}#sk-container-id-3 div.sk-parallel {display: flex;align-items: stretch;justify-content: center;background-color: white;position: relative;}#sk-container-id-3 div.sk-item::before, #sk-container-id-3 div.sk-parallel-item::before {content: \"\";position: absolute;border-left: 1px solid gray;box-sizing: border-box;top: 0;bottom: 0;left: 50%;z-index: -1;}#sk-container-id-3 div.sk-parallel-item {display: flex;flex-direction: column;z-index: 1;position: relative;background-color: white;}#sk-container-id-3 div.sk-parallel-item:first-child::after {align-self: flex-end;width: 50%;}#sk-container-id-3 div.sk-parallel-item:last-child::after {align-self: flex-start;width: 50%;}#sk-container-id-3 div.sk-parallel-item:only-child::after {width: 0;}#sk-container-id-3 div.sk-dashed-wrapped {border: 1px dashed gray;margin: 0 0.4em 0.5em 0.4em;box-sizing: border-box;padding-bottom: 0.4em;background-color: white;}#sk-container-id-3 div.sk-label label {font-family: monospace;font-weight: bold;display: inline-block;line-height: 1.2em;}#sk-container-id-3 div.sk-label-container {text-align: center;}#sk-container-id-3 div.sk-container {/* jupyter's `normalize.less` sets `[hidden] { display: none; }` but bootstrap.min.css set `[hidden] { display: none !important; }` so we also need the `!important` here to be able to override the default hidden behavior on the sphinx rendered scikit-learn.org. See: https://github.com/scikit-learn/scikit-learn/issues/21755 */display: inline-block !important;position: relative;}#sk-container-id-3 div.sk-text-repr-fallback {display: none;}</style><div id=\"sk-container-id-3\" class=\"sk-top-container\"><div class=\"sk-text-repr-fallback\"><pre>KNeighborsClassifier(metric=&#x27;cosine&#x27;, n_neighbors=13)</pre><b>In a Jupyter environment, please rerun this cell to show the HTML representation or trust the notebook. <br />On GitHub, the HTML representation is unable to render, please try loading this page with nbviewer.org.</b></div><div class=\"sk-container\" hidden><div class=\"sk-item\"><div class=\"sk-estimator sk-toggleable\"><input class=\"sk-toggleable__control sk-hidden--visually\" id=\"sk-estimator-id-7\" type=\"checkbox\" checked><label for=\"sk-estimator-id-7\" class=\"sk-toggleable__label sk-toggleable__label-arrow\">KNeighborsClassifier</label><div class=\"sk-toggleable__content\"><pre>KNeighborsClassifier(metric=&#x27;cosine&#x27;, n_neighbors=13)</pre></div></div></div></div></div>"
      ],
      "text/plain": [
       "KNeighborsClassifier(metric='cosine', n_neighbors=13)"
      ]
     },
     "execution_count": 29,
     "metadata": {},
     "output_type": "execute_result"
    }
   ],
   "source": [
    "sklearn_grid_search.best_estimator_"
   ]
  },
  {
   "cell_type": "code",
   "execution_count": 30,
   "metadata": {},
   "outputs": [
    {
     "data": {
      "text/plain": [
       "0.46900584795321637"
      ]
     },
     "execution_count": 30,
     "metadata": {},
     "output_type": "execute_result"
    }
   ],
   "source": [
    "sklearn_grid_search.best_score_"
   ]
  },
  {
   "cell_type": "markdown",
   "metadata": {},
   "source": [
    "## Modeling with random forests"
   ]
  },
  {
   "cell_type": "markdown",
   "metadata": {},
   "source": [
    "And now with random forests :)"
   ]
  },
  {
   "cell_type": "code",
   "execution_count": 31,
   "metadata": {},
   "outputs": [],
   "source": [
    "# hyperparameter tuning with crossvalidation of a random forest model\n",
    "param_grid = {\n",
    "    \"n_estimators\": [x for x in range(10, 200, 10)],\n",
    "    \"max_depth\": [x for x in range(5, 21, 5)]\n",
    "}\n",
    "sklearn_grid_search_rf = GridSearchCV(RandomForestClassifier(), param_grid=param_grid, n_jobs=-1, scoring='f1')\n",
    "_ = sklearn_grid_search_rf.fit(X_train_validation, y_train_validation)"
   ]
  },
  {
   "cell_type": "code",
   "execution_count": 32,
   "metadata": {},
   "outputs": [
    {
     "data": {
      "text/html": [
       "<style>#sk-container-id-4 {color: black;}#sk-container-id-4 pre{padding: 0;}#sk-container-id-4 div.sk-toggleable {background-color: white;}#sk-container-id-4 label.sk-toggleable__label {cursor: pointer;display: block;width: 100%;margin-bottom: 0;padding: 0.3em;box-sizing: border-box;text-align: center;}#sk-container-id-4 label.sk-toggleable__label-arrow:before {content: \"▸\";float: left;margin-right: 0.25em;color: #696969;}#sk-container-id-4 label.sk-toggleable__label-arrow:hover:before {color: black;}#sk-container-id-4 div.sk-estimator:hover label.sk-toggleable__label-arrow:before {color: black;}#sk-container-id-4 div.sk-toggleable__content {max-height: 0;max-width: 0;overflow: hidden;text-align: left;background-color: #f0f8ff;}#sk-container-id-4 div.sk-toggleable__content pre {margin: 0.2em;color: black;border-radius: 0.25em;background-color: #f0f8ff;}#sk-container-id-4 input.sk-toggleable__control:checked~div.sk-toggleable__content {max-height: 200px;max-width: 100%;overflow: auto;}#sk-container-id-4 input.sk-toggleable__control:checked~label.sk-toggleable__label-arrow:before {content: \"▾\";}#sk-container-id-4 div.sk-estimator input.sk-toggleable__control:checked~label.sk-toggleable__label {background-color: #d4ebff;}#sk-container-id-4 div.sk-label input.sk-toggleable__control:checked~label.sk-toggleable__label {background-color: #d4ebff;}#sk-container-id-4 input.sk-hidden--visually {border: 0;clip: rect(1px 1px 1px 1px);clip: rect(1px, 1px, 1px, 1px);height: 1px;margin: -1px;overflow: hidden;padding: 0;position: absolute;width: 1px;}#sk-container-id-4 div.sk-estimator {font-family: monospace;background-color: #f0f8ff;border: 1px dotted black;border-radius: 0.25em;box-sizing: border-box;margin-bottom: 0.5em;}#sk-container-id-4 div.sk-estimator:hover {background-color: #d4ebff;}#sk-container-id-4 div.sk-parallel-item::after {content: \"\";width: 100%;border-bottom: 1px solid gray;flex-grow: 1;}#sk-container-id-4 div.sk-label:hover label.sk-toggleable__label {background-color: #d4ebff;}#sk-container-id-4 div.sk-serial::before {content: \"\";position: absolute;border-left: 1px solid gray;box-sizing: border-box;top: 0;bottom: 0;left: 50%;z-index: 0;}#sk-container-id-4 div.sk-serial {display: flex;flex-direction: column;align-items: center;background-color: white;padding-right: 0.2em;padding-left: 0.2em;position: relative;}#sk-container-id-4 div.sk-item {position: relative;z-index: 1;}#sk-container-id-4 div.sk-parallel {display: flex;align-items: stretch;justify-content: center;background-color: white;position: relative;}#sk-container-id-4 div.sk-item::before, #sk-container-id-4 div.sk-parallel-item::before {content: \"\";position: absolute;border-left: 1px solid gray;box-sizing: border-box;top: 0;bottom: 0;left: 50%;z-index: -1;}#sk-container-id-4 div.sk-parallel-item {display: flex;flex-direction: column;z-index: 1;position: relative;background-color: white;}#sk-container-id-4 div.sk-parallel-item:first-child::after {align-self: flex-end;width: 50%;}#sk-container-id-4 div.sk-parallel-item:last-child::after {align-self: flex-start;width: 50%;}#sk-container-id-4 div.sk-parallel-item:only-child::after {width: 0;}#sk-container-id-4 div.sk-dashed-wrapped {border: 1px dashed gray;margin: 0 0.4em 0.5em 0.4em;box-sizing: border-box;padding-bottom: 0.4em;background-color: white;}#sk-container-id-4 div.sk-label label {font-family: monospace;font-weight: bold;display: inline-block;line-height: 1.2em;}#sk-container-id-4 div.sk-label-container {text-align: center;}#sk-container-id-4 div.sk-container {/* jupyter's `normalize.less` sets `[hidden] { display: none; }` but bootstrap.min.css set `[hidden] { display: none !important; }` so we also need the `!important` here to be able to override the default hidden behavior on the sphinx rendered scikit-learn.org. See: https://github.com/scikit-learn/scikit-learn/issues/21755 */display: inline-block !important;position: relative;}#sk-container-id-4 div.sk-text-repr-fallback {display: none;}</style><div id=\"sk-container-id-4\" class=\"sk-top-container\"><div class=\"sk-text-repr-fallback\"><pre>RandomForestClassifier(max_depth=20, n_estimators=120)</pre><b>In a Jupyter environment, please rerun this cell to show the HTML representation or trust the notebook. <br />On GitHub, the HTML representation is unable to render, please try loading this page with nbviewer.org.</b></div><div class=\"sk-container\" hidden><div class=\"sk-item\"><div class=\"sk-estimator sk-toggleable\"><input class=\"sk-toggleable__control sk-hidden--visually\" id=\"sk-estimator-id-8\" type=\"checkbox\" checked><label for=\"sk-estimator-id-8\" class=\"sk-toggleable__label sk-toggleable__label-arrow\">RandomForestClassifier</label><div class=\"sk-toggleable__content\"><pre>RandomForestClassifier(max_depth=20, n_estimators=120)</pre></div></div></div></div></div>"
      ],
      "text/plain": [
       "RandomForestClassifier(max_depth=20, n_estimators=120)"
      ]
     },
     "execution_count": 32,
     "metadata": {},
     "output_type": "execute_result"
    },
    {
     "data": {
      "text/plain": [
       "0.47977171575895977"
      ]
     },
     "execution_count": 32,
     "metadata": {},
     "output_type": "execute_result"
    }
   ],
   "source": [
    "sklearn_grid_search_rf.best_estimator_\n",
    "sklearn_grid_search_rf.best_score_"
   ]
  },
  {
   "cell_type": "markdown",
   "metadata": {},
   "source": [
    "We see that the f1 score of random forest is much higher than the other models on the validation dataset. This is promising: random forest might be the best model on the test data. Let's check."
   ]
  },
  {
   "cell_type": "code",
   "execution_count": 33,
   "metadata": {},
   "outputs": [
    {
     "data": {
      "text/plain": [
       "0.4698504582730343"
      ]
     },
     "execution_count": 33,
     "metadata": {},
     "output_type": "execute_result"
    }
   ],
   "source": [
    "# final f1 test score\n",
    "# random forest provides the best model on this dataset\n",
    "y_hat_test = sklearn_grid_search_rf.predict(X_test)\n",
    "f1_score(y_test, y_hat_test)"
   ]
  },
  {
   "cell_type": "markdown",
   "metadata": {},
   "source": [
    "Indeed, with 0.47 f1 score random forest in indeed the best model of the bunch."
   ]
  },
  {
   "cell_type": "code",
   "execution_count": 34,
   "metadata": {},
   "outputs": [
    {
     "data": {
      "text/plain": [
       "<sklearn.metrics._plot.confusion_matrix.ConfusionMatrixDisplay at 0x7ff98f718520>"
      ]
     },
     "execution_count": 34,
     "metadata": {},
     "output_type": "execute_result"
    },
    {
     "data": {
      "image/png": "[encoded data removed]",
      "text/plain": [
       "<Figure size 640x480 with 2 Axes>"
      ]
     },
     "metadata": {
      "image/png": {
       "height": 480,
       "width": 640
      }
     },
     "output_type": "display_data"
    },
    {
     "data": {
      "image/png": "[encoded data removed]",
      "text/plain": [
       "<Figure size 640x480 with 2 Axes>"
      ]
     },
     "metadata": {
      "image/png": {
       "height": 480,
       "width": 640
      }
     },
     "output_type": "display_data"
    }
   ],
   "source": [
    "from sklearn.metrics import ConfusionMatrixDisplay\n",
    "\n",
    "disp = ConfusionMatrixDisplay.from_estimator(sklearn_grid_search_rf.best_estimator_, X_test, y_test)\n",
    "disp.plot()\n",
    "plt.show()"
   ]
  },
  {
   "cell_type": "code",
   "execution_count": 35,
   "metadata": {},
   "outputs": [
    {
     "data": {
      "text/plain": [
       "0.6357702349869452"
      ]
     },
     "execution_count": 35,
     "metadata": {},
     "output_type": "execute_result"
    },
    {
     "data": {
      "text/plain": [
       "0.3726090283091048"
      ]
     },
     "execution_count": 35,
     "metadata": {},
     "output_type": "execute_result"
    }
   ],
   "source": [
    "precision_score(y_test, y_hat_test)\n",
    "recall_score(y_test, y_hat_test)"
   ]
  },
  {
   "cell_type": "markdown",
   "metadata": {},
   "source": [
    "We can see that the higher f1 score is mostly driven by high precision, but recall is quite a bit lower."
   ]
  },
  {
   "cell_type": "markdown",
   "metadata": {},
   "source": [
    "## Modeling with neural networks"
   ]
  },
  {
   "cell_type": "markdown",
   "metadata": {},
   "source": [
    "We can try another model on the above problem. Let's try a simple feed-forward neural network.\n",
    "For this we need scipy and keras packages installed in the environment. Moreover, we need to have a keras backend (Theano or Tensorflow) installed. We will use Tensorflow here.\n",
    "We can install all these packages by typing the following commands in a terminal with conda activated:\n",
    "- conda install scipy\n",
    "- pip install tensorflow keras\n",
    "\n",
    "Or, you can install the relevant packages in your environment from the conda UI."
   ]
  },
  {
   "cell_type": "code",
   "execution_count": null,
   "metadata": {},
   "outputs": [],
   "source": [
    "import tensorflow\n",
    "print('tensorflow: %s' % tensorflow.__version__)"
   ]
  },
  {
   "cell_type": "code",
   "execution_count": null,
   "metadata": {},
   "outputs": [],
   "source": [
    "import keras\n",
    "print('keras: %s' % keras.__version__)"
   ]
  },
  {
   "cell_type": "code",
   "execution_count": null,
   "metadata": {},
   "outputs": [],
   "source": [
    "# import what we need from keras\n",
    "from keras.models import Sequential\n",
    "from keras.layers import Dense"
   ]
  },
  {
   "cell_type": "markdown",
   "metadata": {},
   "source": [
    "Now, keras is just an interface to Tensorflow (or Theano) that makes it easier to define a neural network architecture. It contains shortcuts to define a variety of architectures and their layers. Here, we will use the simple Sequential model, that is used to define feedforward neural networks; and we will use the Dense layer, which is used to specify dense (i.e. fully conencted) layers of neurons in the sequential network.\n",
    "\n",
    "Note that for each dense layer, we will have to specify how many neurons that layer should contain. For the input layer, i.e., the first layer in the feedforward network, the number of neurons must be equal to the number of features that are to be used for training; that is, each input neuron will correspond to an input feature.\n",
    "\n",
    "Intermediate layers of the network can have variable numbers of neurons, each with its associated weight. Each neuron encodes a linear combination of the values of the neurons that feed into it, weighted by the corresponding coefficients."
   ]
  },
  {
   "cell_type": "code",
   "execution_count": null,
   "metadata": {},
   "outputs": [],
   "source": [
    "print(f\"The number of neurons for the input layer must be: {X_train.shape[1]}\")"
   ]
  },
  {
   "cell_type": "code",
   "execution_count": null,
   "metadata": {},
   "outputs": [],
   "source": [
    "# define the neural network model class instance\n",
    "simple_nn = Sequential()\n",
    "# add the first input layer with 29 nodes and the first hidden layer, with  relu activation function\n",
    "# note that the first command does two things: create a first input layer with 29 nodes, and then a hidden layer\n",
    "# we set the number of neurons to be equal to the (# of nodes in the input layer + # neurons in the output layer)/2,\n",
    "# i.e. the mean of the number of neurons in the input layer and the output layer. This is usually a good heuristic to get started.\n",
    "simple_nn.add(Dense(20, input_dim=X_train.shape[1], activation='relu'))\n",
    "# add the output layer with sigmoid function (the sigmoid function is exactly the same as that used in the formulation of logisitc regression\n",
    "simple_nn.add(Dense(1, activation='sigmoid'))"
   ]
  },
  {
   "cell_type": "code",
   "execution_count": null,
   "metadata": {},
   "outputs": [],
   "source": [
    "print(simple_nn.summary())"
   ]
  },
  {
   "cell_type": "markdown",
   "metadata": {},
   "source": [
    "After the model has been defined, it needs to be compiled to tensorflow code to be able to be trained.\n",
    "\n",
    "Here we also need to choose the cost function to optimize for in the backpropagation algorithm.\n",
    "Since we are doing classification, we will use cross entropy. \n",
    "\n",
    "As the algorithm for to do backpropagation, we will use adam. See https://machinelearningmastery.com/adam-optimization-algorithm-for-deep-learning/ for a gentle tutorial on stochastic gradient descent using adam."
   ]
  },
  {
   "cell_type": "code",
   "execution_count": null,
   "metadata": {},
   "outputs": [],
   "source": [
    "simple_nn.compile(loss='binary_crossentropy', optimizer='adam')"
   ]
  },
  {
   "cell_type": "markdown",
   "metadata": {},
   "source": [
    "Note that we use the binary_crossentropy loss function in the above model. Remember that the loss function is the function that encodes the error of the prediction by the NN on a given observation w.r.t. the observation's true value. The gradient descent algorithm tries to adjust the weights of the neural network so that this error is minimized. \n",
    "\n",
    "The cross entropy function for a binary classification problem is defined as:\n",
    "\n",
    "-(y log(p) + (1-y) log(1-p))\n",
    "\n",
    "where y is the actual label (0 or 1), and p is the probability that the model predicts for the 1 (positive) class.\n",
    "\n",
    "The underlying intuition is that the cross entropy loss increases the more the predicted probability for the correct class (in the range 0-1) differs from the correct class (either 0 or 1).\n",
    "\n",
    "<div>\n",
    "<img src=\"img/logloss.png\" width=\"500\">\n",
    "</div>\n",
    "\n",
    "See https://machinelearningmastery.com/cross-entropy-for-machine-learning/ for a more extensive discussion of the cross entropy and log loss functions."
   ]
  },
  {
   "cell_type": "markdown",
   "metadata": {},
   "source": [
    "Now that we have the compiled model, we can fit it on the training set. The interface here is similar to that of sklearn: we can call the .fit method on the compiled simple_nn model, and fit our model on the training set.\n",
    "\n",
    "Note that training for a neural network model in keras goes a bit differently that for other machine learning algorithms. Here, training occurs over different **epochs**. Each **epoch** is split into **batches**. Epochs and batches are defined as:\n",
    "\n",
    "- epoch: one forward-and-backprop pass through every row in the training set\n",
    "- batch: the number of samples that are considered for each backpropagation update of the weights of the network\n",
    "\n",
    "Each epoch consists of multiple weights update actions, one for each batch that the training dataset is divided into. There are two extreme cases: all the observations in training are in one single batch, or each individual observations is in its own separate batch.\n",
    "\n",
    "In the first case, the model will:\n",
    "1. calculate the error from all the observations in the unique batch \n",
    "2. use it do update the weights of the network\n",
    "3. complete the epoch\n",
    "\n",
    "In the second case, the model will:\n",
    "1. calculate the error for the first batch (first observation)\n",
    "2. update the weights of the network\n",
    "3. calculate the error for the second batch (second observation)\n",
    "4. update the error\n",
    "5. repeat the steps above for all the observations in the training set\n",
    "6. complete the epoch\n",
    "\n",
    "Of course, these are two extreme cases. But one can set different values for the batch size, e.g., 10. Then the observations are grouped in groups of size 10 (the batches), and the algorithm loops though each batch, predicting, backpropagating, and updating the weights after each batch. When all batches are done, one epoch has passed.\n",
    "\n",
    "Terminology:\n",
    "\n",
    "- Batch Size = Size of Training Set -> Batch Gradient Descent\n",
    "- Batch Size = 1 -> Stochastic Gradient Descent\n",
    "- 1 < Batch Size < Size of Training Set -> Mini-Batch Gradient Descent\n"
   ]
  },
  {
   "cell_type": "markdown",
   "metadata": {},
   "source": [
    "<div>\n",
    "<img src=\"img/batches_epochs.jpeg\" width=\"500\">\n",
    "</div>"
   ]
  },
  {
   "cell_type": "code",
   "execution_count": null,
   "metadata": {},
   "outputs": [],
   "source": [
    "X_train.shape\n",
    "y_train.shape\n",
    "X_validation.shape\n",
    "y_validation.shape"
   ]
  },
  {
   "cell_type": "code",
   "execution_count": null,
   "metadata": {},
   "outputs": [],
   "source": [
    "simple_nn.fit(X_train, y_train, epochs=150, batch_size = 20)"
   ]
  },
  {
   "cell_type": "markdown",
   "metadata": {},
   "source": [
    "Note that when we fit the model, keras prints the value of the loss function at the end of each epoch. Here, the value of the loss function is calculated on the training set itself.\n",
    "You can see that the loss is monotonically decreasing over the epochs, until it reaches a plateau:"
   ]
  },
  {
   "cell_type": "code",
   "execution_count": null,
   "metadata": {},
   "outputs": [],
   "source": [
    "# see what information has been logged during the training process\n",
    "simple_nn.history.history.keys()\n",
    "\n",
    "# plot the training loss over epochs\n",
    "loss_df = pd.DataFrame(simple_nn.history.history['loss'])\n",
    "loss_df.columns = ['loss']\n",
    "loss_df = loss_df.assign(epoch = np.arange(1, 151))\n",
    "\n",
    "(\n",
    "    ggplot(loss_df, aes(x='epoch', y='loss')) +\n",
    "    geom_point()\n",
    ")"
   ]
  },
  {
   "cell_type": "markdown",
   "metadata": {},
   "source": [
    "We can see that the training loss is decreasing almost linearly after each epoch. This suggests that we could in principle increase the number of epochs to achieve better predictions.\n",
    "\n",
    "However, note that this is the loss computed at the end of each epoch on the **training set**. Thus, just looking at this loss can lead to **overfitting**. Increasing the number of epochs radically will lower the loss on the training set, but the loss on a set that the model has not been trained on could be much worse if the model is just reducing the loss on the training set by learning noise.\n",
    "\n",
    "We can provide our validation dataset to keras in order to evaluate, at the end of each epoch, the loss on the validation dataset. This will allow us to detect if the model starts to overfit, for instance."
   ]
  },
  {
   "cell_type": "code",
   "execution_count": null,
   "metadata": {},
   "outputs": [],
   "source": [
    "simple_nn.fit(X_train, y_train, epochs=150, batch_size = 20, validation_data=(X_validation, y_validation))"
   ]
  },
  {
   "cell_type": "code",
   "execution_count": null,
   "metadata": {},
   "outputs": [],
   "source": [
    "# plot the training loss over epochs\n",
    "def plot_loss(nn_model):\n",
    "    loss_df = pd.DataFrame({\n",
    "        'train_loss': nn_model.history.history['loss'],\n",
    "        'val_loss': nn_model.history.history['val_loss']\n",
    "    })\n",
    "    loss_df = loss_df.assign(epoch = np.arange(1, 151))\n",
    "\n",
    "    p = (\n",
    "        ggplot(loss_df) +\n",
    "        geom_point(aes(x='epoch', y='train_loss'), color='green') +\n",
    "        geom_point(aes(x='epoch', y='val_loss'), color='red') +\n",
    "        scale_x_continuous(breaks = np.arange(0, 150, 10)) +\n",
    "        ylab(\"Loss\")\n",
    "    )\n",
    "    return p\n",
    "\n",
    "plot_loss(simple_nn)"
   ]
  },
  {
   "cell_type": "code",
   "execution_count": null,
   "metadata": {},
   "outputs": [],
   "source": [
    "# save the above simple nn fitted model to look at it later. We need to use the keras save command\n",
    "# this command will save all the components of the model, in particular the architecture and the weights\n",
    "# note: it will NOT save the training history. This needs to be saved separately.\n",
    "simple_nn.save('../dataset/simple_nn_model')\n",
    "\n",
    "print(\"Storing the fitting history of simple nn to disk\")\n",
    "with open('../dataset/simple_nn_history.json', 'w') as handle:\n",
    "    json.dump(simple_nn.history.history, handle)"
   ]
  },
  {
   "cell_type": "code",
   "execution_count": null,
   "metadata": {},
   "outputs": [],
   "source": [
    "# we can load the above save model like this:\n",
    "simple_nn = keras.models.load_model(\"../dataset/simple_nn_model\")\n",
    "simple_nn\n",
    "\n",
    "# reload the fitting history like this\n",
    "with open(\"../dataset/simplen_nn_history.json\", \"r\") as handle:\n",
    "    simple_nn_history = json.load(handle)"
   ]
  },
  {
   "cell_type": "markdown",
   "metadata": {},
   "source": [
    "After we have determined at least the number of epochs that give us the best results on the validation dataset, we can train the model on the full train + validation set, and predict on the test set to get a final value for the model performance."
   ]
  },
  {
   "cell_type": "code",
   "execution_count": null,
   "metadata": {},
   "outputs": [],
   "source": [
    "final_nn = Sequential()\n",
    "final_nn.add(Dense(20, input_dim=X_train.shape[1], activation='relu'))\n",
    "final_nn.add(Dense(1, activation='sigmoid'))\n",
    "final_nn.compile(loss='binary_crossentropy', optimizer='adam')\n",
    "final_nn.fit(X_train_validation, y_train_validation, epochs=50, batch_size = 20, verbose=0)\n",
    "y_hat_test_nn = final_nn.predict(X_test)\n",
    "y_hat_test_nn = np.where(y_hat_test_nn >= 0.5, 1, 0)\n",
    "print(\"The f1 score of the nn model is {}\".format(f1_score(y_test, y_hat_test_nn)))"
   ]
  },
  {
   "cell_type": "markdown",
   "metadata": {},
   "source": [
    "We have improved on the score fo the SVC! We now have 0.475 as f1 score rather than the 0.45 produced by the SVC.\n",
    "Note however that there is a lot of randomness built in neural network models. If we reran the fitting process of the above model, most likely we would obtain slightly different results.\n",
    "It is best practice to fit a selected model multiple times and generate multiple scores on the test set. These can highlight if there are stability issues with the model, in case there is a large variance in the scores so produced. Moreover, they can be averaged to obtain a final preformance metric for the model on the test set."
   ]
  },
  {
   "cell_type": "markdown",
   "metadata": {},
   "source": [
    "If we try with a network with a lot of hidden neurons and hidden layers, we see that we will start overfitting very rapidly: the loss on the validation set will start to skyrocket almost immediately, while the loss on the training set will keep decreasing monotonically.\n",
    "\n",
    "In general, the number of neurons and hidden layers in the network influences a lot the performance of the network. If you have many hidden layers with a lot of neurons, and the dimensionality of your data (# of features) is much smaller than the number of hidden neurons in the network, you are very likely to overfit the data.\n",
    "\n",
    "On the other hand, if you have few neurons compared to the dimensionality of your data; for instance if you have hundreds of features (such as in image recognition problems, where each pixel is a feature), but just one hidden layer with 10 neurons, or even no hidden layer (in which case the neural network reduces to a linear regression), then you are very likely to underfit the data."
   ]
  },
  {
   "cell_type": "code",
   "execution_count": null,
   "metadata": {},
   "outputs": [],
   "source": [
    "oversized_nn = Sequential()\n",
    "oversized_nn.add(Dense(60, input_dim=X_train.shape[1], activation='relu'))\n",
    "oversized_nn.add(Dense(40, activation='relu'))\n",
    "oversized_nn.add(Dense(15, activation='relu'))\n",
    "oversized_nn.add(Dense(1, activation='sigmoid'))\n",
    "oversized_nn.compile(loss=\"binary_crossentropy\", optimizer=\"adam\")\n",
    "oversized_nn.fit(X_train, y_train, epochs=150, batch_size = 20, validation_data=(X_validation, y_validation))"
   ]
  },
  {
   "cell_type": "code",
   "execution_count": null,
   "metadata": {},
   "outputs": [],
   "source": [
    "plot_loss(oversized_nn)"
   ]
  },
  {
   "cell_type": "markdown",
   "metadata": {},
   "source": [
    "We can see that the neural network starts overfitting almost immediately.\n",
    "In general, it is a good heuristic to start with a simple network with a # of hidden neurons equal to around half of the dimensionality of the feature space. However, the best number of neurons can best be determined with hypertuning."
   ]
  },
  {
   "cell_type": "markdown",
   "metadata": {},
   "source": [
    "## Hypertuning of neural network: batches, epochs, layers"
   ]
  },
  {
   "cell_type": "markdown",
   "metadata": {},
   "source": [
    "There are many hyperparameters that can be tuned for neural networks: https://machinelearningmastery.com/grid-search-hyperparameters-deep-learning-models-python-keras/\n",
    "\n",
    "Here we just show how we can tune batch size, number of epochs, and number of neurons in the hidden layers, with a simple grid search.\n",
    "\n",
    "Note that in the above link, they use keras.wrappers.scikit_learn to turn a keras model into a sklearn model. However, this method is superseded by the scikeras package, which is the one we use below.\n",
    "You can install this package by doing:\n",
    "\n",
    "- pip instal scikeras"
   ]
  },
  {
   "cell_type": "code",
   "execution_count": null,
   "metadata": {},
   "outputs": [],
   "source": [
    "# from keras.wrappers.scikit_learn import KerasClassifier\n",
    "from scikeras.wrappers import KerasClassifier"
   ]
  },
  {
   "cell_type": "code",
   "execution_count": null,
   "metadata": {},
   "outputs": [],
   "source": [
    "# function that creates the model\n",
    "# note that we pass the number of neurons as a parameter to the network\n",
    "def create_model(neurons=1):\n",
    "    nn_model = Sequential()\n",
    "    nn_model.add(Dense(neurons, input_dim=X_train.shape[1], activation=\"relu\"))\n",
    "    nn_model.add(Dense(1, activation='sigmoid'))\n",
    "    nn_model.compile(loss='binary_crossentropy', optimizer='adam')\n",
    "    return nn_model\n",
    "\n",
    "seed = 1234\n",
    "np.random.seed(seed)\n",
    "\n",
    "# turn the keras model into a sklearn compatible model\n",
    "# note that the neurons parameter needs to be specified in the interface of KerasClassifier\n",
    "model = KerasClassifier(build_fn=create_model, verbose=0, neurons=1)"
   ]
  },
  {
   "cell_type": "code",
   "execution_count": null,
   "metadata": {},
   "outputs": [],
   "source": [
    "# define the grid search parameters\n",
    "batch_size = [10, 20]\n",
    "epochs = [100, 150]\n",
    "neurons = [10, 20, 30]\n",
    "params_grid = dict(batch_size=batch_size, epochs=epochs, neurons=neurons)"
   ]
  },
  {
   "cell_type": "code",
   "execution_count": null,
   "metadata": {},
   "outputs": [],
   "source": [
    "params_grid"
   ]
  },
  {
   "cell_type": "code",
   "execution_count": null,
   "metadata": {},
   "outputs": [],
   "source": [
    "# perform grid search with sklearn if needed, otherwise load the grid search already performed\n",
    "if os.path.exists(\"../dataset/nn_grid_search.pickle\") and USE_STORED_NN_HYPERTUNED_MODELS is True:\n",
    "    with open('../dataset/nn_grid_search.pickle', 'rb') as handle:\n",
    "        grid_search_nn = pickle.load(handle)\n",
    "else:\n",
    "    start_time = datetime.datetime.now()\n",
    "    grid_search_nn = GridSearchCV(estimator=model, param_grid=params_grid, n_jobs=-1, cv=fold_index)\n",
    "    grid_search_nn = grid_search_nn.fit(X_train_validation, y_train_validation)\n",
    "    end_time = datetime.datetime.now()\n",
    "    print(f'hypertuning with sklearn grid search for neural networks complete in {round((end_time - start_time).seconds/60, 2)} minutes')\n",
    "    # store the results of the grid search to disk\n",
    "with open('../dataset/nn_grid_search.pickle', 'wb') as handle:\n",
    "    pickle.dump(grid_search_nn, handle)"
   ]
  },
  {
   "cell_type": "code",
   "execution_count": null,
   "metadata": {},
   "outputs": [],
   "source": [
    "grid_search_nn"
   ]
  },
  {
   "cell_type": "code",
   "execution_count": null,
   "metadata": {},
   "outputs": [],
   "source": [
    "print(\"The best parameter combination is: {} with score: {}\".format(grid_search_nn.best_params_, grid_search_nn.best_score_))"
   ]
  },
  {
   "cell_type": "markdown",
   "metadata": {},
   "source": [
    "We now train a model with the best parameters found on train and validation, together:"
   ]
  },
  {
   "cell_type": "code",
   "execution_count": null,
   "metadata": {},
   "outputs": [],
   "source": [
    "best_model = create_model(20)\n",
    "best_model.fit(X_train_validation, y_train_validation, epochs=100, batch_size=10, verbose=0)"
   ]
  },
  {
   "cell_type": "markdown",
   "metadata": {},
   "source": [
    "We can then evaluate the model so trained on the test set:"
   ]
  },
  {
   "cell_type": "code",
   "execution_count": null,
   "metadata": {},
   "outputs": [],
   "source": [
    "y_hat_test = best_model.predict(X_test)\n",
    "y_hat_test = np.where(y_hat_test >= 0.5, 1, 0)\n",
    "f1_score(y_test, y_hat_test)"
   ]
  },
  {
   "cell_type": "markdown",
   "metadata": {},
   "source": [
    "This is worse than the results obtained above, but note that the hypertuning has identified as the best number of nodes (20) the number of nodes we used above.\n",
    "\n",
    "The underperformance here is most likely due to the grid search being too small, for instance we saw above that the model with 20 neurons does better when the epochs are on the small side (20-60).\n",
    "Here we only have 100 and 150 epochs in the grid search.\n",
    "\n",
    "We would then be able to improve the results if we had a finer grid using the insights from the quick test above to zone in on the parameters that are more likely to yield good performance (e.g., epochs < 100)."
   ]
  }
 ],
 "metadata": {
  "kernelspec": {
   "display_name": "Python 3.10.0 ('teaching')",
   "language": "python",
   "name": "python3"
  },
  "language_info": {
   "codemirror_mode": {
    "name": "ipython",
    "version": 3
   },
   "file_extension": ".py",
   "mimetype": "text/x-python",
   "name": "python",
   "nbconvert_exporter": "python",
   "pygments_lexer": "ipython3",
   "version": "3.10.0"
  },
  "orig_nbformat": 2,
  "vscode": {
   "interpreter": {
    "hash": "1e146a432e2971ead6ca2adfccd361e7256016801521af6894ffdef8a064a536"
   }
  }
 },
 "nbformat": 4,
 "nbformat_minor": 2
}
