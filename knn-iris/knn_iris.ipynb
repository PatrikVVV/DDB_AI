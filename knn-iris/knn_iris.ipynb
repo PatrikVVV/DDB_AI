{
 "cells": [
  {
   "cell_type": "markdown",
   "metadata": {},
   "source": [
    "# KNN experiment on iris dataset"
   ]
  },
  {
   "cell_type": "markdown",
   "metadata": {},
   "source": [
    "## prepping"
   ]
  },
  {
   "cell_type": "code",
   "execution_count": 1,
   "metadata": {},
   "outputs": [],
   "source": [
    "from sklearn import datasets\n",
    "import pandas as pd\n",
    "\n",
    "from typing import List\n",
    "\n",
    "from IPython.core.interactiveshell import InteractiveShell\n",
    "InteractiveShell.ast_node_interactivity = \"all\" # to make jupyter print all outputs, not just the last one\n",
    "from sklearn.neighbors import KNeighborsClassifier\n",
    "from sklearn.preprocessing import StandardScaler\n",
    "from sklearn.metrics import f1_score\n",
    "from plotnine import *\n",
    "import random"
   ]
  },
  {
   "cell_type": "code",
   "execution_count": 2,
   "metadata": {},
   "outputs": [],
   "source": [
    "iris_data = datasets.load_iris()\n",
    "iris = pd.DataFrame(iris_data[\"data\"])\n",
    "iris.columns = iris_data[\"feature_names\"]\n",
    "iris_target = pd.Series(iris_data[\"target\"])"
   ]
  },
  {
   "cell_type": "code",
   "execution_count": 3,
   "metadata": {},
   "outputs": [
    {
     "name": "stdout",
     "output_type": "stream",
     "text": [
      "Total n obs 150\n",
      "n obs fitting 120\n",
      "n obs validation 24\n",
      "n obs train 96\n"
     ]
    }
   ],
   "source": [
    "n_obs = iris.shape[0]\n",
    "print(\"Total n obs\", n_obs)\n",
    "n_obs_fitting = round(n_obs * 0.8)\n",
    "print(\"n obs fitting\", n_obs_fitting)\n",
    "n_obs_validation = round(n_obs_fitting * 0.2)\n",
    "print(\"n obs validation\", n_obs_validation)\n",
    "print(\"n obs train\", n_obs_fitting - n_obs_validation)"
   ]
  },
  {
   "cell_type": "code",
   "execution_count": null,
   "metadata": {},
   "outputs": [],
   "source": [
    "# shuffling data to generate the datasets\n",
    "indices = iris.index.tolist()\n",
    "random.Random(5473).shuffle(indices) # fixing the random seed\n",
    "fitting_indices = indices[:n_obs_fitting]\n",
    "validation_indices = fitting_indices[-n_obs_validation:]\n",
    "train_indices: List[int] = [x for x in fitting_indices if x not in validation_indices]\n",
    "test_indices = [x for x in iris.index if x not in fitting_indices]"
   ]
  },
  {
   "cell_type": "code",
   "execution_count": null,
   "metadata": {},
   "outputs": [],
   "source": [
    "assert len(train_indices) + len(validation_indices) + len(test_indices) == n_obs # making sure number of obs are correct"
   ]
  },
  {
   "cell_type": "markdown",
   "metadata": {},
   "source": [
    "## (manual) grid search"
   ]
  },
  {
   "cell_type": "code",
   "execution_count": null,
   "metadata": {},
   "outputs": [],
   "source": [
    "# k grid values \n",
    "k_grid = [x for x in range(1, 40)]\n",
    "# distance metric values\n",
    "distances_grid = [\"minkowski\", \"cosine\"]\n",
    "\n",
    "# create all combinations of hyperparameters\n",
    "hyperparameters_combos = []\n",
    "for k in k_grid:\n",
    "    for d in distances_grid:\n",
    "        hyperparameters_combos.append( (k, d) )\n",
    "hyperparameters_combos"
   ]
  },
  {
   "cell_type": "code",
   "execution_count": null,
   "metadata": {},
   "outputs": [],
   "source": [
    "hyperparameter_tuning_results = {}\n",
    "\n",
    "def fit_knn_model(X_train, y_train, k, metric):\n",
    "    scaler = StandardScaler()\n",
    "    knn = KNeighborsClassifier(n_neighbors=k, metric=metric)\n",
    "    X_scaled = scaler.fit_transform(X_train)\n",
    "    _ = knn.fit(X_scaled, y_train)\n",
    "    return knn, scaler\n",
    "\n",
    "for combo in hyperparameters_combos:\n",
    "    X_train = iris[iris.index.isin(train_indices)]\n",
    "    y_train = iris_target[iris_target.index.isin(train_indices)]\n",
    "    knn, scaler = fit_knn_model(X_train, y_train, combo[0], combo[1])\n",
    "\n",
    "    X_validation = iris[iris.index.isin(validation_indices)]\n",
    "    X_validation_scaled = scaler.transform(X_validation)\n",
    "    y_validation = iris_target[iris.index.isin(validation_indices)]\n",
    "    y_hat_validation = knn.predict(X_validation_scaled)\n",
    "\n",
    "    score = f1_score(y_validation, y_hat_validation, average=\"macro\")\n",
    "    hyperparameter_tuning_results[combo] = {\n",
    "        \"score\": score\n",
    "    }"
   ]
  },
  {
   "cell_type": "code",
   "execution_count": null,
   "metadata": {},
   "outputs": [],
   "source": [
    "hyperparameter_tuning_results\n",
    "\n",
    "best_combo = None\n",
    "best_score = 0\n",
    "for combo in hyperparameter_tuning_results:\n",
    "    score = hyperparameter_tuning_results[combo]['score']\n",
    "    if score >= best_score:\n",
    "        best_score = score\n",
    "        best_combo = combo\n",
    "best_score\n",
    "best_combo"
   ]
  },
  {
   "cell_type": "code",
   "execution_count": null,
   "metadata": {},
   "outputs": [],
   "source": [
    "scores = []\n",
    "for combo in hyperparameter_tuning_results:\n",
    "    scores.append( (combo[0], combo[1], hyperparameter_tuning_results[combo][\"score\"]) )\n",
    "scores_df = pd.DataFrame(scores, columns=[\"k\", \"metric\", \"score\"])"
   ]
  },
  {
   "cell_type": "code",
   "execution_count": null,
   "metadata": {},
   "outputs": [],
   "source": [
    "(\n",
    "    ggplot(scores_df, aes(x=\"k\", y=\"score\")) +\n",
    "    geom_point() +\n",
    "    facet_wrap(\"metric\") +\n",
    "    ggtitle(\"F1 score against k value\")\n",
    ")"
   ]
  },
  {
   "cell_type": "markdown",
   "metadata": {},
   "source": [
    "## Final model"
   ]
  },
  {
   "cell_type": "code",
   "execution_count": null,
   "metadata": {},
   "outputs": [],
   "source": [
    "X_fitting = iris[iris.index.isin(fitting_indices)]\n",
    "y_fitting = iris_target[iris_target.index.isin(fitting_indices)]\n",
    "\n",
    "final_knn, scaler = fit_knn_model(X_fitting, y_fitting, best_combo[0], best_combo[1]) #type: ignore\n",
    "\n",
    "X_test = iris[iris.index.isin(test_indices)]\n",
    "X_test_scaled = scaler.transform(X_test)\n",
    "y_hat_test = final_knn.predict(X_test_scaled)\n",
    "final_score = f1_score(iris_target[iris_target.index.isin(test_indices)], y_hat_test, average=\"macro\")\n",
    "final_score"
   ]
  },
  {
   "cell_type": "markdown",
   "metadata": {},
   "source": [
    "## Experiment: repeated sampling validation"
   ]
  },
  {
   "cell_type": "code",
   "execution_count": 20,
   "metadata": {},
   "outputs": [],
   "source": [
    "def do_grid_search():\n",
    "    # shuffling data to generate the datasets\n",
    "    indices = iris.index.tolist()\n",
    "    random.shuffle(indices) # fixing the random seed\n",
    "    fitting_indices = indices[:n_obs_fitting]\n",
    "    validation_indices = fitting_indices[-n_obs_validation:]\n",
    "    train_indices: List[int] = [x for x in fitting_indices if x not in validation_indices]\n",
    "\n",
    "    # k grid values \n",
    "    k_grid = [x for x in range(1, 40)]\n",
    "    # distance metric values\n",
    "    distances_grid = [\"minkowski\", \"cosine\"]\n",
    "\n",
    "    # create all combinations of hyperparameters\n",
    "    hyperparameters_combos = []\n",
    "    for k in k_grid:\n",
    "        for d in distances_grid:\n",
    "            hyperparameters_combos.append( (k, d) )\n",
    "\n",
    "    hyperparameter_tuning_results = {}\n",
    "\n",
    "    def fit_knn_model(X_train, y_train, k, metric):\n",
    "        scaler = StandardScaler()\n",
    "        knn = KNeighborsClassifier(n_neighbors=k, metric=metric)\n",
    "        X_scaled = scaler.fit_transform(X_train)\n",
    "        _ = knn.fit(X_scaled, y_train)\n",
    "        return knn, scaler\n",
    "\n",
    "    for combo in hyperparameters_combos:\n",
    "        X_train = iris[iris.index.isin(train_indices)]\n",
    "        y_train = iris_target[iris_target.index.isin(train_indices)]\n",
    "        knn, scaler = fit_knn_model(X_train, y_train, combo[0], combo[1])\n",
    "\n",
    "        X_validation = iris[iris.index.isin(validation_indices)]\n",
    "        X_validation_scaled = scaler.transform(X_validation)\n",
    "        y_validation = iris_target[iris.index.isin(validation_indices)]\n",
    "        y_hat_validation = knn.predict(X_validation_scaled)\n",
    "\n",
    "        score = f1_score(y_validation, y_hat_validation, average=\"macro\")\n",
    "        hyperparameter_tuning_results[combo] = {\n",
    "            \"score\": score\n",
    "        }\n",
    "\n",
    "    best_combo = None\n",
    "    best_score = 0\n",
    "    for combo in hyperparameter_tuning_results:\n",
    "        score = hyperparameter_tuning_results[combo]['score']\n",
    "        if score >= best_score:\n",
    "            best_score = score\n",
    "            best_combo = combo\n",
    "    return (best_combo[0], best_combo[1], best_score) # type: ignore\n",
    "\n",
    "counter = 0\n",
    "best_combos = []\n",
    "while counter < 500:\n",
    "    best_combos.append(do_grid_search())\n",
    "    counter = counter + 1"
   ]
  },
  {
   "cell_type": "code",
   "execution_count": 14,
   "metadata": {},
   "outputs": [],
   "source": [
    "best_combos_df = pd.DataFrame(best_combos, columns=[\"k\", \"metric\", \"score\"])"
   ]
  },
  {
   "cell_type": "code",
   "execution_count": 17,
   "metadata": {},
   "outputs": [
    {
     "name": "stderr",
     "output_type": "stream",
     "text": [
      "/home/riccardo/miniconda3/envs/teaching/lib/python3.10/site-packages/plotnine/stats/stat_bin.py:95: PlotnineWarning: 'stat_bin()' using 'bins = 8'. Pick better value with 'binwidth'.\n"
     ]
    },
    {
     "data": {
      "image/png": "[encoded data removed]",
      "text/plain": [
       "<Figure size 640x480 with 2 Axes>"
      ]
     },
     "metadata": {},
     "output_type": "display_data"
    },
    {
     "data": {
      "text/plain": [
       "<ggplot: (8726846752952)>"
      ]
     },
     "execution_count": 17,
     "metadata": {},
     "output_type": "execute_result"
    }
   ],
   "source": [
    "(\n",
    "    ggplot(best_combos_df, aes(x=\"k\")) +\n",
    "    geom_histogram() +\n",
    "    facet_wrap(\"metric\")\n",
    ")"
   ]
  },
  {
   "cell_type": "code",
   "execution_count": 21,
   "metadata": {},
   "outputs": [
    {
     "name": "stderr",
     "output_type": "stream",
     "text": [
      "/home/riccardo/miniconda3/envs/teaching/lib/python3.10/site-packages/plotnine/stats/stat_bin.py:95: PlotnineWarning: 'stat_bin()' using 'bins = 7'. Pick better value with 'binwidth'.\n"
     ]
    },
    {
     "data": {
      "image/png": "[encoded data removed]",
      "text/plain": [
       "<Figure size 640x480 with 1 Axes>"
      ]
     },
     "metadata": {},
     "output_type": "display_data"
    },
    {
     "data": {
      "text/plain": [
       "<ggplot: (8726844211600)>"
      ]
     },
     "execution_count": 21,
     "metadata": {},
     "output_type": "execute_result"
    }
   ],
   "source": [
    "(\n",
    "    ggplot(best_combos_df.loc[lambda x: x.metric == \"minkowski\"], aes(x=\"k\")) +\n",
    "    geom_histogram()\n",
    ")"
   ]
  }
 ],
 "metadata": {
  "kernelspec": {
   "display_name": "Python 3.10.0 ('teaching')",
   "language": "python",
   "name": "python3"
  },
  "language_info": {
   "codemirror_mode": {
    "name": "ipython",
    "version": 3
   },
   "file_extension": ".py",
   "mimetype": "text/x-python",
   "name": "python",
   "nbconvert_exporter": "python",
   "pygments_lexer": "ipython3",
   "version": "3.10.0"
  },
  "orig_nbformat": 4,
  "vscode": {
   "interpreter": {
    "hash": "1e146a432e2971ead6ca2adfccd361e7256016801521af6894ffdef8a064a536"
   }
  }
 },
 "nbformat": 4,
 "nbformat_minor": 2
}
